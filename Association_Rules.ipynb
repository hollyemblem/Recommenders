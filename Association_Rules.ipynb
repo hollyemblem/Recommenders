{
  "nbformat": 4,
  "nbformat_minor": 0,
  "metadata": {
    "colab": {
      "provenance": [],
      "machine_shape": "hm",
      "mount_file_id": "1Upas7RdsKKKLdCymopzPj0PPKRJNmKwP",
      "authorship_tag": "ABX9TyNcczawALwR6r9ffgPbzNlo",
      "include_colab_link": true
    },
    "kernelspec": {
      "name": "python3",
      "display_name": "Python 3"
    },
    "language_info": {
      "name": "python"
    },
    "gpuClass": "standard"
  },
  "cells": [
    {
      "cell_type": "markdown",
      "metadata": {
        "id": "view-in-github",
        "colab_type": "text"
      },
      "source": [
        "<a href=\"https://colab.research.google.com/github/hollyemblem/Recommenders/blob/main/Association_Rules.ipynb\" target=\"_parent\"><img src=\"https://colab.research.google.com/assets/colab-badge.svg\" alt=\"Open In Colab\"/></a>"
      ]
    },
    {
      "cell_type": "markdown",
      "source": [
        "# Association Rules Notebook\n",
        "\n",
        "In this notebook, I explore some of the examples provided by Kim Falk in Practical Recommender Systems, specifically implementing association rules (chapter 5-6)\n",
        "\n",
        "I use a dataset from Kaggle: https://www.kaggle.com/datasets/mkechinov/ecommerce-purchase-history-from-electronics-store?resource=download\n",
        "\n",
        "which contains a list of ecommerce purchases, linked by orderID. I then look at implementing two types of association rules frequent items datasets:\n",
        "\n",
        "- Linked by productID\n",
        "- Linked by category code\n",
        "\n",
        "The category code example proves more relevant\n",
        "\n",
        "### Challenges\n",
        "A big challenge with this dataset is the minimum support required to generate an itemsets dataset is really low! Like 0.025 in some instances. The dilemma this introduces is described here:\n",
        "\n",
        "\"If the frequencies of items vary highly we will encounter two problems:firstly, if minsupp is set too high, we will not find those rules that involve infrequent items or rare items in the data. Secondly, in order to find rules that involve both frequent and rare items, we have to set minsupp very low. \n",
        "\n",
        "However, this may cause combination explosion, producing too many rules, because\n",
        "those frequent items will be associated with one another in all possible ways and many of them are meaningless. This\n",
        "dilemma is called the rare item problem\"\n",
        "\n",
        "The solution generated in the paper is to mine for profit, not support.\n",
        "\n",
        "Source: http://www.joebm.com/vol4/454-MH0004.pdf\n",
        "\n",
        "### Examples\n",
        "Some further implementation examples are here:\n",
        "\n",
        "https://www.datacamp.com/tutorial/market-basket-analysis-r - This one is interesting as they specify quite a low support.\n",
        "\n",
        "https://mhahsler.github.io/arules/docs/measures - using leverage as opposed to min support, also suffers from the same rare item problem\n",
        "\n",
        "https://core.ac.uk/download/pdf/81961775.pdf - Further guidance on the rare item problem\n",
        "\n",
        "https://link.springer.com/article/10.1007/s40747-018-0085-9 - Rare pattern mining, challenges and future perspectives\n",
        "\n",
        "\n"
      ],
      "metadata": {
        "id": "VaBLod-yWOsV"
      }
    },
    {
      "cell_type": "markdown",
      "source": [
        "### Loading in Data"
      ],
      "metadata": {
        "id": "0cTZsUHNCUJi"
      }
    },
    {
      "cell_type": "code",
      "source": [
        "from google.colab import drive\n",
        "drive.mount('/content/drive')"
      ],
      "metadata": {
        "colab": {
          "base_uri": "https://localhost:8080/"
        },
        "id": "m75Z2-W7CW2b",
        "outputId": "8950baed-b224-421b-f18c-64919cdcd879"
      },
      "execution_count": null,
      "outputs": [
        {
          "output_type": "stream",
          "name": "stderr",
          "text": [
            "/usr/local/lib/python3.10/dist-packages/ipykernel/ipkernel.py:283: DeprecationWarning: `should_run_async` will not call `transform_cell` automatically in the future. Please pass the result to `transformed_cell` argument and any exception that happen during thetransform in `preprocessing_exc_tuple` in IPython 7.17 and above.\n",
            "  and should_run_async(code)\n"
          ]
        },
        {
          "output_type": "stream",
          "name": "stdout",
          "text": [
            "Drive already mounted at /content/drive; to attempt to forcibly remount, call drive.mount(\"/content/drive\", force_remount=True).\n"
          ]
        }
      ]
    },
    {
      "cell_type": "code",
      "source": [
        "%cd /content/drive/MyDrive/Recommendation\\ Engines"
      ],
      "metadata": {
        "colab": {
          "base_uri": "https://localhost:8080/"
        },
        "id": "FFosqtB3C7YU",
        "outputId": "2944bb48-8d77-4927-a4d0-bbef5107433f"
      },
      "execution_count": null,
      "outputs": [
        {
          "output_type": "stream",
          "name": "stdout",
          "text": [
            "/content/drive/MyDrive/Recommendation Engines\n"
          ]
        }
      ]
    },
    {
      "cell_type": "markdown",
      "source": [
        "#### Reading data in with Pandas\n"
      ],
      "metadata": {
        "id": "LHjTX0tvDYqK"
      }
    },
    {
      "cell_type": "code",
      "source": [
        "import pandas as pd"
      ],
      "metadata": {
        "id": "ZzOiL-e8DSgQ"
      },
      "execution_count": null,
      "outputs": []
    },
    {
      "cell_type": "code",
      "source": [
        "df = pd.read_csv('kz.csv')"
      ],
      "metadata": {
        "id": "GyH_ofk6Dao6"
      },
      "execution_count": null,
      "outputs": []
    },
    {
      "cell_type": "code",
      "source": [
        "df.head()"
      ],
      "metadata": {
        "colab": {
          "base_uri": "https://localhost:8080/",
          "height": 337
        },
        "id": "wuUmevnTDdKe",
        "outputId": "679aaf72-5261-428e-e156-e46e448d1a20"
      },
      "execution_count": null,
      "outputs": [
        {
          "output_type": "execute_result",
          "data": {
            "text/plain": [
              "                event_time             order_id           product_id  \\\n",
              "0  2020-04-24 11:50:39 UTC  2294359932054536986  1515966223509089906   \n",
              "1  2020-04-24 11:50:39 UTC  2294359932054536986  1515966223509089906   \n",
              "2  2020-04-24 14:37:43 UTC  2294444024058086220  2273948319057183658   \n",
              "3  2020-04-24 14:37:43 UTC  2294444024058086220  2273948319057183658   \n",
              "4  2020-04-24 19:16:21 UTC  2294584263154074236  2273948316817424439   \n",
              "\n",
              "    category_id                category_code    brand   price       user_id  \n",
              "0  2.268105e+18           electronics.tablet  samsung  162.01  1.515916e+18  \n",
              "1  2.268105e+18           electronics.tablet  samsung  162.01  1.515916e+18  \n",
              "2  2.268105e+18  electronics.audio.headphone   huawei   77.52  1.515916e+18  \n",
              "3  2.268105e+18  electronics.audio.headphone   huawei   77.52  1.515916e+18  \n",
              "4  2.268105e+18                          NaN  karcher  217.57  1.515916e+18  "
            ],
            "text/html": [
              "\n",
              "  <div id=\"df-019c89a6-f119-476f-9271-c56e2903e6ca\">\n",
              "    <div class=\"colab-df-container\">\n",
              "      <div>\n",
              "<style scoped>\n",
              "    .dataframe tbody tr th:only-of-type {\n",
              "        vertical-align: middle;\n",
              "    }\n",
              "\n",
              "    .dataframe tbody tr th {\n",
              "        vertical-align: top;\n",
              "    }\n",
              "\n",
              "    .dataframe thead th {\n",
              "        text-align: right;\n",
              "    }\n",
              "</style>\n",
              "<table border=\"1\" class=\"dataframe\">\n",
              "  <thead>\n",
              "    <tr style=\"text-align: right;\">\n",
              "      <th></th>\n",
              "      <th>event_time</th>\n",
              "      <th>order_id</th>\n",
              "      <th>product_id</th>\n",
              "      <th>category_id</th>\n",
              "      <th>category_code</th>\n",
              "      <th>brand</th>\n",
              "      <th>price</th>\n",
              "      <th>user_id</th>\n",
              "    </tr>\n",
              "  </thead>\n",
              "  <tbody>\n",
              "    <tr>\n",
              "      <th>0</th>\n",
              "      <td>2020-04-24 11:50:39 UTC</td>\n",
              "      <td>2294359932054536986</td>\n",
              "      <td>1515966223509089906</td>\n",
              "      <td>2.268105e+18</td>\n",
              "      <td>electronics.tablet</td>\n",
              "      <td>samsung</td>\n",
              "      <td>162.01</td>\n",
              "      <td>1.515916e+18</td>\n",
              "    </tr>\n",
              "    <tr>\n",
              "      <th>1</th>\n",
              "      <td>2020-04-24 11:50:39 UTC</td>\n",
              "      <td>2294359932054536986</td>\n",
              "      <td>1515966223509089906</td>\n",
              "      <td>2.268105e+18</td>\n",
              "      <td>electronics.tablet</td>\n",
              "      <td>samsung</td>\n",
              "      <td>162.01</td>\n",
              "      <td>1.515916e+18</td>\n",
              "    </tr>\n",
              "    <tr>\n",
              "      <th>2</th>\n",
              "      <td>2020-04-24 14:37:43 UTC</td>\n",
              "      <td>2294444024058086220</td>\n",
              "      <td>2273948319057183658</td>\n",
              "      <td>2.268105e+18</td>\n",
              "      <td>electronics.audio.headphone</td>\n",
              "      <td>huawei</td>\n",
              "      <td>77.52</td>\n",
              "      <td>1.515916e+18</td>\n",
              "    </tr>\n",
              "    <tr>\n",
              "      <th>3</th>\n",
              "      <td>2020-04-24 14:37:43 UTC</td>\n",
              "      <td>2294444024058086220</td>\n",
              "      <td>2273948319057183658</td>\n",
              "      <td>2.268105e+18</td>\n",
              "      <td>electronics.audio.headphone</td>\n",
              "      <td>huawei</td>\n",
              "      <td>77.52</td>\n",
              "      <td>1.515916e+18</td>\n",
              "    </tr>\n",
              "    <tr>\n",
              "      <th>4</th>\n",
              "      <td>2020-04-24 19:16:21 UTC</td>\n",
              "      <td>2294584263154074236</td>\n",
              "      <td>2273948316817424439</td>\n",
              "      <td>2.268105e+18</td>\n",
              "      <td>NaN</td>\n",
              "      <td>karcher</td>\n",
              "      <td>217.57</td>\n",
              "      <td>1.515916e+18</td>\n",
              "    </tr>\n",
              "  </tbody>\n",
              "</table>\n",
              "</div>\n",
              "      <button class=\"colab-df-convert\" onclick=\"convertToInteractive('df-019c89a6-f119-476f-9271-c56e2903e6ca')\"\n",
              "              title=\"Convert this dataframe to an interactive table.\"\n",
              "              style=\"display:none;\">\n",
              "        \n",
              "  <svg xmlns=\"http://www.w3.org/2000/svg\" height=\"24px\"viewBox=\"0 0 24 24\"\n",
              "       width=\"24px\">\n",
              "    <path d=\"M0 0h24v24H0V0z\" fill=\"none\"/>\n",
              "    <path d=\"M18.56 5.44l.94 2.06.94-2.06 2.06-.94-2.06-.94-.94-2.06-.94 2.06-2.06.94zm-11 1L8.5 8.5l.94-2.06 2.06-.94-2.06-.94L8.5 2.5l-.94 2.06-2.06.94zm10 10l.94 2.06.94-2.06 2.06-.94-2.06-.94-.94-2.06-.94 2.06-2.06.94z\"/><path d=\"M17.41 7.96l-1.37-1.37c-.4-.4-.92-.59-1.43-.59-.52 0-1.04.2-1.43.59L10.3 9.45l-7.72 7.72c-.78.78-.78 2.05 0 2.83L4 21.41c.39.39.9.59 1.41.59.51 0 1.02-.2 1.41-.59l7.78-7.78 2.81-2.81c.8-.78.8-2.07 0-2.86zM5.41 20L4 18.59l7.72-7.72 1.47 1.35L5.41 20z\"/>\n",
              "  </svg>\n",
              "      </button>\n",
              "      \n",
              "  <style>\n",
              "    .colab-df-container {\n",
              "      display:flex;\n",
              "      flex-wrap:wrap;\n",
              "      gap: 12px;\n",
              "    }\n",
              "\n",
              "    .colab-df-convert {\n",
              "      background-color: #E8F0FE;\n",
              "      border: none;\n",
              "      border-radius: 50%;\n",
              "      cursor: pointer;\n",
              "      display: none;\n",
              "      fill: #1967D2;\n",
              "      height: 32px;\n",
              "      padding: 0 0 0 0;\n",
              "      width: 32px;\n",
              "    }\n",
              "\n",
              "    .colab-df-convert:hover {\n",
              "      background-color: #E2EBFA;\n",
              "      box-shadow: 0px 1px 2px rgba(60, 64, 67, 0.3), 0px 1px 3px 1px rgba(60, 64, 67, 0.15);\n",
              "      fill: #174EA6;\n",
              "    }\n",
              "\n",
              "    [theme=dark] .colab-df-convert {\n",
              "      background-color: #3B4455;\n",
              "      fill: #D2E3FC;\n",
              "    }\n",
              "\n",
              "    [theme=dark] .colab-df-convert:hover {\n",
              "      background-color: #434B5C;\n",
              "      box-shadow: 0px 1px 3px 1px rgba(0, 0, 0, 0.15);\n",
              "      filter: drop-shadow(0px 1px 2px rgba(0, 0, 0, 0.3));\n",
              "      fill: #FFFFFF;\n",
              "    }\n",
              "  </style>\n",
              "\n",
              "      <script>\n",
              "        const buttonEl =\n",
              "          document.querySelector('#df-019c89a6-f119-476f-9271-c56e2903e6ca button.colab-df-convert');\n",
              "        buttonEl.style.display =\n",
              "          google.colab.kernel.accessAllowed ? 'block' : 'none';\n",
              "\n",
              "        async function convertToInteractive(key) {\n",
              "          const element = document.querySelector('#df-019c89a6-f119-476f-9271-c56e2903e6ca');\n",
              "          const dataTable =\n",
              "            await google.colab.kernel.invokeFunction('convertToInteractive',\n",
              "                                                     [key], {});\n",
              "          if (!dataTable) return;\n",
              "\n",
              "          const docLinkHtml = 'Like what you see? Visit the ' +\n",
              "            '<a target=\"_blank\" href=https://colab.research.google.com/notebooks/data_table.ipynb>data table notebook</a>'\n",
              "            + ' to learn more about interactive tables.';\n",
              "          element.innerHTML = '';\n",
              "          dataTable['output_type'] = 'display_data';\n",
              "          await google.colab.output.renderOutput(dataTable, element);\n",
              "          const docLink = document.createElement('div');\n",
              "          docLink.innerHTML = docLinkHtml;\n",
              "          element.appendChild(docLink);\n",
              "        }\n",
              "      </script>\n",
              "    </div>\n",
              "  </div>\n",
              "  "
            ]
          },
          "metadata": {},
          "execution_count": 5
        }
      ]
    },
    {
      "cell_type": "code",
      "source": [
        "df.count()"
      ],
      "metadata": {
        "colab": {
          "base_uri": "https://localhost:8080/"
        },
        "id": "-b1uJ1WVMDQx",
        "outputId": "5a4148b0-120d-413e-b864-f59b6bbfc79c"
      },
      "execution_count": null,
      "outputs": [
        {
          "output_type": "execute_result",
          "data": {
            "text/plain": [
              "event_time       2633521\n",
              "order_id         2633521\n",
              "product_id       2633521\n",
              "category_id      2201567\n",
              "category_code    2021319\n",
              "brand            2127516\n",
              "price            2201567\n",
              "user_id           564169\n",
              "dtype: int64"
            ]
          },
          "metadata": {},
          "execution_count": 6
        }
      ]
    },
    {
      "cell_type": "markdown",
      "source": [
        "Drop Rows with any NA values"
      ],
      "metadata": {
        "id": "htXHjYT7IBH6"
      }
    },
    {
      "cell_type": "code",
      "source": [
        "df = df.dropna(subset = ['product_id', 'category_id', 'order_id', 'brand', 'category_code'])"
      ],
      "metadata": {
        "id": "nYmFaPAhIAg3"
      },
      "execution_count": null,
      "outputs": []
    },
    {
      "cell_type": "code",
      "source": [
        "df.count()"
      ],
      "metadata": {
        "colab": {
          "base_uri": "https://localhost:8080/"
        },
        "id": "9Ci283WSINLz",
        "outputId": "f9b3dd02-a717-4a05-86b9-fe66bdf1822e"
      },
      "execution_count": null,
      "outputs": [
        {
          "output_type": "execute_result",
          "data": {
            "text/plain": [
              "event_time       1532175\n",
              "order_id         1532175\n",
              "product_id       1532175\n",
              "category_id      1532175\n",
              "category_code    1532175\n",
              "brand            1532175\n",
              "price            1532175\n",
              "user_id           420718\n",
              "dtype: int64"
            ]
          },
          "metadata": {},
          "execution_count": 8
        }
      ]
    },
    {
      "cell_type": "markdown",
      "source": [
        "Average categories purchased by order\n",
        "Average products purchased by order"
      ],
      "metadata": {
        "id": "iY53KnUXLdHV"
      }
    },
    {
      "cell_type": "code",
      "source": [
        "products_per_order = df.groupby('order_id')['product_id'].count()\n",
        "products_per_order.mean()"
      ],
      "metadata": {
        "colab": {
          "base_uri": "https://localhost:8080/"
        },
        "id": "ZrZWbGt-LcJW",
        "outputId": "ee196ac6-5881-4361-aca6-9096dae9ebd7"
      },
      "execution_count": null,
      "outputs": [
        {
          "output_type": "execute_result",
          "data": {
            "text/plain": [
              "1.3400189610266942"
            ]
          },
          "metadata": {},
          "execution_count": 9
        }
      ]
    },
    {
      "cell_type": "code",
      "source": [
        "cats_per_order = df.groupby('order_id')['category_code'].count()\n",
        "cats_per_order.mean()"
      ],
      "metadata": {
        "colab": {
          "base_uri": "https://localhost:8080/"
        },
        "id": "syWPRi2KLkNO",
        "outputId": "d7395efd-5d68-40fb-a26f-a32577d0ce74"
      },
      "execution_count": null,
      "outputs": [
        {
          "output_type": "execute_result",
          "data": {
            "text/plain": [
              "1.3400189610266942"
            ]
          },
          "metadata": {},
          "execution_count": 10
        }
      ]
    },
    {
      "cell_type": "markdown",
      "source": [
        "### Adding Association Rules Engine"
      ],
      "metadata": {
        "id": "jdh0klYbDvC4"
      }
    },
    {
      "cell_type": "code",
      "source": [
        "!pip install mlxtend --upgrade"
      ],
      "metadata": {
        "colab": {
          "base_uri": "https://localhost:8080/"
        },
        "id": "r193QJ6YDd8T",
        "outputId": "ed6a639d-2eeb-46a8-f590-0780f48bf13a"
      },
      "execution_count": null,
      "outputs": [
        {
          "output_type": "stream",
          "name": "stdout",
          "text": [
            "Looking in indexes: https://pypi.org/simple, https://us-python.pkg.dev/colab-wheels/public/simple/\n",
            "Requirement already satisfied: mlxtend in /usr/local/lib/python3.10/dist-packages (0.22.0)\n",
            "Requirement already satisfied: scipy>=1.2.1 in /usr/local/lib/python3.10/dist-packages (from mlxtend) (1.10.1)\n",
            "Requirement already satisfied: matplotlib>=3.0.0 in /usr/local/lib/python3.10/dist-packages (from mlxtend) (3.7.1)\n",
            "Requirement already satisfied: setuptools in /usr/local/lib/python3.10/dist-packages (from mlxtend) (67.7.2)\n",
            "Requirement already satisfied: numpy>=1.16.2 in /usr/local/lib/python3.10/dist-packages (from mlxtend) (1.22.4)\n",
            "Requirement already satisfied: scikit-learn>=1.0.2 in /usr/local/lib/python3.10/dist-packages (from mlxtend) (1.2.2)\n",
            "Requirement already satisfied: joblib>=0.13.2 in /usr/local/lib/python3.10/dist-packages (from mlxtend) (1.2.0)\n",
            "Requirement already satisfied: pandas>=0.24.2 in /usr/local/lib/python3.10/dist-packages (from mlxtend) (1.5.3)\n",
            "Requirement already satisfied: fonttools>=4.22.0 in /usr/local/lib/python3.10/dist-packages (from matplotlib>=3.0.0->mlxtend) (4.39.3)\n",
            "Requirement already satisfied: python-dateutil>=2.7 in /usr/local/lib/python3.10/dist-packages (from matplotlib>=3.0.0->mlxtend) (2.8.2)\n",
            "Requirement already satisfied: kiwisolver>=1.0.1 in /usr/local/lib/python3.10/dist-packages (from matplotlib>=3.0.0->mlxtend) (1.4.4)\n",
            "Requirement already satisfied: contourpy>=1.0.1 in /usr/local/lib/python3.10/dist-packages (from matplotlib>=3.0.0->mlxtend) (1.0.7)\n",
            "Requirement already satisfied: packaging>=20.0 in /usr/local/lib/python3.10/dist-packages (from matplotlib>=3.0.0->mlxtend) (23.1)\n",
            "Requirement already satisfied: pyparsing>=2.3.1 in /usr/local/lib/python3.10/dist-packages (from matplotlib>=3.0.0->mlxtend) (3.0.9)\n",
            "Requirement already satisfied: pillow>=6.2.0 in /usr/local/lib/python3.10/dist-packages (from matplotlib>=3.0.0->mlxtend) (8.4.0)\n",
            "Requirement already satisfied: cycler>=0.10 in /usr/local/lib/python3.10/dist-packages (from matplotlib>=3.0.0->mlxtend) (0.11.0)\n",
            "Requirement already satisfied: pytz>=2020.1 in /usr/local/lib/python3.10/dist-packages (from pandas>=0.24.2->mlxtend) (2022.7.1)\n",
            "Requirement already satisfied: threadpoolctl>=2.0.0 in /usr/local/lib/python3.10/dist-packages (from scikit-learn>=1.0.2->mlxtend) (3.1.0)\n",
            "Requirement already satisfied: six>=1.5 in /usr/local/lib/python3.10/dist-packages (from python-dateutil>=2.7->matplotlib>=3.0.0->mlxtend) (1.16.0)\n"
          ]
        }
      ]
    },
    {
      "cell_type": "code",
      "source": [
        "from mlxtend.frequent_patterns import apriori, fpmax, fpgrowth"
      ],
      "metadata": {
        "id": "XJrKCiquDsUC"
      },
      "execution_count": null,
      "outputs": []
    },
    {
      "cell_type": "markdown",
      "source": [
        "Expected format for frequent itemsets: https://rasbt.github.io/mlxtend/user_guide/frequent_patterns/apriori/"
      ],
      "metadata": {
        "id": "AUn0PpzWD9G3"
      }
    },
    {
      "cell_type": "code",
      "source": [
        "dataset = df.groupby('order_id')['category_code'].apply(list).tolist()"
      ],
      "metadata": {
        "colab": {
          "base_uri": "https://localhost:8080/"
        },
        "id": "wuy7XtJqDuK3",
        "outputId": "174ab3a0-e787-4a77-ab0f-ed19683a1c1a"
      },
      "execution_count": null,
      "outputs": [
        {
          "output_type": "stream",
          "name": "stderr",
          "text": [
            "/usr/local/lib/python3.10/dist-packages/ipykernel/ipkernel.py:283: DeprecationWarning: `should_run_async` will not call `transform_cell` automatically in the future. Please pass the result to `transformed_cell` argument and any exception that happen during thetransform in `preprocessing_exc_tuple` in IPython 7.17 and above.\n",
            "  and should_run_async(code)\n"
          ]
        }
      ]
    },
    {
      "cell_type": "code",
      "source": [
        "len(dataset)"
      ],
      "metadata": {
        "colab": {
          "base_uri": "https://localhost:8080/"
        },
        "id": "Id6C4KWbLFjg",
        "outputId": "18d21284-06ea-4090-d5c6-c09fdd4f9afe"
      },
      "execution_count": null,
      "outputs": [
        {
          "output_type": "stream",
          "name": "stderr",
          "text": [
            "/usr/local/lib/python3.10/dist-packages/ipykernel/ipkernel.py:283: DeprecationWarning: `should_run_async` will not call `transform_cell` automatically in the future. Please pass the result to `transformed_cell` argument and any exception that happen during thetransform in `preprocessing_exc_tuple` in IPython 7.17 and above.\n",
            "  and should_run_async(code)\n"
          ]
        },
        {
          "output_type": "execute_result",
          "data": {
            "text/plain": [
              "1143398"
            ]
          },
          "metadata": {},
          "execution_count": 14
        }
      ]
    },
    {
      "cell_type": "markdown",
      "source": [
        "Transforming into the correct format:\n",
        "\n",
        "Changed to sparse due to the size of the dataset"
      ],
      "metadata": {
        "id": "EvA4n59dFNP7"
      }
    },
    {
      "cell_type": "code",
      "source": [
        "from mlxtend.preprocessing import TransactionEncoder\n",
        "\n",
        "te = TransactionEncoder()\n",
        "oht_ary = te.fit(dataset).transform(dataset, sparse = True)\n",
        "prod_df = pd.DataFrame.sparse.from_spmatrix(oht_ary, columns=te.columns_)"
      ],
      "metadata": {
        "colab": {
          "base_uri": "https://localhost:8080/"
        },
        "id": "SvvJpEBYEw1w",
        "outputId": "4b173197-0fe1-4f63-b107-8e3bfece248d"
      },
      "execution_count": null,
      "outputs": [
        {
          "output_type": "stream",
          "name": "stderr",
          "text": [
            "/usr/local/lib/python3.10/dist-packages/ipykernel/ipkernel.py:283: DeprecationWarning: `should_run_async` will not call `transform_cell` automatically in the future. Please pass the result to `transformed_cell` argument and any exception that happen during thetransform in `preprocessing_exc_tuple` in IPython 7.17 and above.\n",
            "  and should_run_async(code)\n"
          ]
        }
      ]
    },
    {
      "cell_type": "markdown",
      "source": [
        "Returning items with _some_~ support, trying both apriori and fpgrowth"
      ],
      "metadata": {
        "id": "D8_oZOK8Fao_"
      }
    },
    {
      "cell_type": "code",
      "source": [
        "apriori(prod_df, min_support=0.001)"
      ],
      "metadata": {
        "colab": {
          "base_uri": "https://localhost:8080/",
          "height": 479
        },
        "id": "Iv9ykGCOT0tt",
        "outputId": "eb37f8dd-f67a-4d53-d207-100b20721716"
      },
      "execution_count": null,
      "outputs": [
        {
          "output_type": "stream",
          "name": "stderr",
          "text": [
            "/usr/local/lib/python3.10/dist-packages/ipykernel/ipkernel.py:283: DeprecationWarning: `should_run_async` will not call `transform_cell` automatically in the future. Please pass the result to `transformed_cell` argument and any exception that happen during thetransform in `preprocessing_exc_tuple` in IPython 7.17 and above.\n",
            "  and should_run_async(code)\n"
          ]
        },
        {
          "output_type": "execute_result",
          "data": {
            "text/plain": [
              "      support          itemsets\n",
              "0    0.011313               (0)\n",
              "1    0.004070               (3)\n",
              "2    0.001260               (8)\n",
              "3    0.023329               (9)\n",
              "4    0.006663              (10)\n",
              "..        ...               ...\n",
              "147  0.002013      (33, 29, 23)\n",
              "148  0.001818      (33, 30, 23)\n",
              "149  0.001649      (33, 29, 30)\n",
              "150  0.002234      (33, 92, 30)\n",
              "151  0.001225  (33, 29, 30, 23)\n",
              "\n",
              "[152 rows x 2 columns]"
            ],
            "text/html": [
              "\n",
              "  <div id=\"df-8ed77ffb-d70e-4846-a8a5-dcd6af72aa1e\">\n",
              "    <div class=\"colab-df-container\">\n",
              "      <div>\n",
              "<style scoped>\n",
              "    .dataframe tbody tr th:only-of-type {\n",
              "        vertical-align: middle;\n",
              "    }\n",
              "\n",
              "    .dataframe tbody tr th {\n",
              "        vertical-align: top;\n",
              "    }\n",
              "\n",
              "    .dataframe thead th {\n",
              "        text-align: right;\n",
              "    }\n",
              "</style>\n",
              "<table border=\"1\" class=\"dataframe\">\n",
              "  <thead>\n",
              "    <tr style=\"text-align: right;\">\n",
              "      <th></th>\n",
              "      <th>support</th>\n",
              "      <th>itemsets</th>\n",
              "    </tr>\n",
              "  </thead>\n",
              "  <tbody>\n",
              "    <tr>\n",
              "      <th>0</th>\n",
              "      <td>0.011313</td>\n",
              "      <td>(0)</td>\n",
              "    </tr>\n",
              "    <tr>\n",
              "      <th>1</th>\n",
              "      <td>0.004070</td>\n",
              "      <td>(3)</td>\n",
              "    </tr>\n",
              "    <tr>\n",
              "      <th>2</th>\n",
              "      <td>0.001260</td>\n",
              "      <td>(8)</td>\n",
              "    </tr>\n",
              "    <tr>\n",
              "      <th>3</th>\n",
              "      <td>0.023329</td>\n",
              "      <td>(9)</td>\n",
              "    </tr>\n",
              "    <tr>\n",
              "      <th>4</th>\n",
              "      <td>0.006663</td>\n",
              "      <td>(10)</td>\n",
              "    </tr>\n",
              "    <tr>\n",
              "      <th>...</th>\n",
              "      <td>...</td>\n",
              "      <td>...</td>\n",
              "    </tr>\n",
              "    <tr>\n",
              "      <th>147</th>\n",
              "      <td>0.002013</td>\n",
              "      <td>(33, 29, 23)</td>\n",
              "    </tr>\n",
              "    <tr>\n",
              "      <th>148</th>\n",
              "      <td>0.001818</td>\n",
              "      <td>(33, 30, 23)</td>\n",
              "    </tr>\n",
              "    <tr>\n",
              "      <th>149</th>\n",
              "      <td>0.001649</td>\n",
              "      <td>(33, 29, 30)</td>\n",
              "    </tr>\n",
              "    <tr>\n",
              "      <th>150</th>\n",
              "      <td>0.002234</td>\n",
              "      <td>(33, 92, 30)</td>\n",
              "    </tr>\n",
              "    <tr>\n",
              "      <th>151</th>\n",
              "      <td>0.001225</td>\n",
              "      <td>(33, 29, 30, 23)</td>\n",
              "    </tr>\n",
              "  </tbody>\n",
              "</table>\n",
              "<p>152 rows × 2 columns</p>\n",
              "</div>\n",
              "      <button class=\"colab-df-convert\" onclick=\"convertToInteractive('df-8ed77ffb-d70e-4846-a8a5-dcd6af72aa1e')\"\n",
              "              title=\"Convert this dataframe to an interactive table.\"\n",
              "              style=\"display:none;\">\n",
              "        \n",
              "  <svg xmlns=\"http://www.w3.org/2000/svg\" height=\"24px\"viewBox=\"0 0 24 24\"\n",
              "       width=\"24px\">\n",
              "    <path d=\"M0 0h24v24H0V0z\" fill=\"none\"/>\n",
              "    <path d=\"M18.56 5.44l.94 2.06.94-2.06 2.06-.94-2.06-.94-.94-2.06-.94 2.06-2.06.94zm-11 1L8.5 8.5l.94-2.06 2.06-.94-2.06-.94L8.5 2.5l-.94 2.06-2.06.94zm10 10l.94 2.06.94-2.06 2.06-.94-2.06-.94-.94-2.06-.94 2.06-2.06.94z\"/><path d=\"M17.41 7.96l-1.37-1.37c-.4-.4-.92-.59-1.43-.59-.52 0-1.04.2-1.43.59L10.3 9.45l-7.72 7.72c-.78.78-.78 2.05 0 2.83L4 21.41c.39.39.9.59 1.41.59.51 0 1.02-.2 1.41-.59l7.78-7.78 2.81-2.81c.8-.78.8-2.07 0-2.86zM5.41 20L4 18.59l7.72-7.72 1.47 1.35L5.41 20z\"/>\n",
              "  </svg>\n",
              "      </button>\n",
              "      \n",
              "  <style>\n",
              "    .colab-df-container {\n",
              "      display:flex;\n",
              "      flex-wrap:wrap;\n",
              "      gap: 12px;\n",
              "    }\n",
              "\n",
              "    .colab-df-convert {\n",
              "      background-color: #E8F0FE;\n",
              "      border: none;\n",
              "      border-radius: 50%;\n",
              "      cursor: pointer;\n",
              "      display: none;\n",
              "      fill: #1967D2;\n",
              "      height: 32px;\n",
              "      padding: 0 0 0 0;\n",
              "      width: 32px;\n",
              "    }\n",
              "\n",
              "    .colab-df-convert:hover {\n",
              "      background-color: #E2EBFA;\n",
              "      box-shadow: 0px 1px 2px rgba(60, 64, 67, 0.3), 0px 1px 3px 1px rgba(60, 64, 67, 0.15);\n",
              "      fill: #174EA6;\n",
              "    }\n",
              "\n",
              "    [theme=dark] .colab-df-convert {\n",
              "      background-color: #3B4455;\n",
              "      fill: #D2E3FC;\n",
              "    }\n",
              "\n",
              "    [theme=dark] .colab-df-convert:hover {\n",
              "      background-color: #434B5C;\n",
              "      box-shadow: 0px 1px 3px 1px rgba(0, 0, 0, 0.15);\n",
              "      filter: drop-shadow(0px 1px 2px rgba(0, 0, 0, 0.3));\n",
              "      fill: #FFFFFF;\n",
              "    }\n",
              "  </style>\n",
              "\n",
              "      <script>\n",
              "        const buttonEl =\n",
              "          document.querySelector('#df-8ed77ffb-d70e-4846-a8a5-dcd6af72aa1e button.colab-df-convert');\n",
              "        buttonEl.style.display =\n",
              "          google.colab.kernel.accessAllowed ? 'block' : 'none';\n",
              "\n",
              "        async function convertToInteractive(key) {\n",
              "          const element = document.querySelector('#df-8ed77ffb-d70e-4846-a8a5-dcd6af72aa1e');\n",
              "          const dataTable =\n",
              "            await google.colab.kernel.invokeFunction('convertToInteractive',\n",
              "                                                     [key], {});\n",
              "          if (!dataTable) return;\n",
              "\n",
              "          const docLinkHtml = 'Like what you see? Visit the ' +\n",
              "            '<a target=\"_blank\" href=https://colab.research.google.com/notebooks/data_table.ipynb>data table notebook</a>'\n",
              "            + ' to learn more about interactive tables.';\n",
              "          element.innerHTML = '';\n",
              "          dataTable['output_type'] = 'display_data';\n",
              "          await google.colab.output.renderOutput(dataTable, element);\n",
              "          const docLink = document.createElement('div');\n",
              "          docLink.innerHTML = docLinkHtml;\n",
              "          element.appendChild(docLink);\n",
              "        }\n",
              "      </script>\n",
              "    </div>\n",
              "  </div>\n",
              "  "
            ]
          },
          "metadata": {},
          "execution_count": 18
        }
      ]
    },
    {
      "cell_type": "code",
      "source": [
        "fpgrowth(prod_df, min_support=0.001)"
      ],
      "metadata": {
        "colab": {
          "base_uri": "https://localhost:8080/",
          "height": 479
        },
        "id": "98PgzO3EUwRo",
        "outputId": "271b0998-907a-4ec0-f22b-ba27aca099e6"
      },
      "execution_count": null,
      "outputs": [
        {
          "output_type": "stream",
          "name": "stderr",
          "text": [
            "/usr/local/lib/python3.10/dist-packages/ipykernel/ipkernel.py:283: DeprecationWarning: `should_run_async` will not call `transform_cell` automatically in the future. Please pass the result to `transformed_cell` argument and any exception that happen during thetransform in `preprocessing_exc_tuple` in IPython 7.17 and above.\n",
            "  and should_run_async(code)\n"
          ]
        },
        {
          "output_type": "execute_result",
          "data": {
            "text/plain": [
              "      support      itemsets\n",
              "0    0.016770          (89)\n",
              "1    0.054661          (81)\n",
              "2    0.036197          (99)\n",
              "3    0.273765          (88)\n",
              "4    0.063376          (30)\n",
              "..        ...           ...\n",
              "147  0.001379      (20, 30)\n",
              "148  0.001429  (20, 29, 23)\n",
              "149  0.001999      (98, 99)\n",
              "150  0.001227      (37, 30)\n",
              "151  0.004807     (99, 100)\n",
              "\n",
              "[152 rows x 2 columns]"
            ],
            "text/html": [
              "\n",
              "  <div id=\"df-dd22ba79-ff0b-42ef-8a65-ca7ee15330fe\">\n",
              "    <div class=\"colab-df-container\">\n",
              "      <div>\n",
              "<style scoped>\n",
              "    .dataframe tbody tr th:only-of-type {\n",
              "        vertical-align: middle;\n",
              "    }\n",
              "\n",
              "    .dataframe tbody tr th {\n",
              "        vertical-align: top;\n",
              "    }\n",
              "\n",
              "    .dataframe thead th {\n",
              "        text-align: right;\n",
              "    }\n",
              "</style>\n",
              "<table border=\"1\" class=\"dataframe\">\n",
              "  <thead>\n",
              "    <tr style=\"text-align: right;\">\n",
              "      <th></th>\n",
              "      <th>support</th>\n",
              "      <th>itemsets</th>\n",
              "    </tr>\n",
              "  </thead>\n",
              "  <tbody>\n",
              "    <tr>\n",
              "      <th>0</th>\n",
              "      <td>0.016770</td>\n",
              "      <td>(89)</td>\n",
              "    </tr>\n",
              "    <tr>\n",
              "      <th>1</th>\n",
              "      <td>0.054661</td>\n",
              "      <td>(81)</td>\n",
              "    </tr>\n",
              "    <tr>\n",
              "      <th>2</th>\n",
              "      <td>0.036197</td>\n",
              "      <td>(99)</td>\n",
              "    </tr>\n",
              "    <tr>\n",
              "      <th>3</th>\n",
              "      <td>0.273765</td>\n",
              "      <td>(88)</td>\n",
              "    </tr>\n",
              "    <tr>\n",
              "      <th>4</th>\n",
              "      <td>0.063376</td>\n",
              "      <td>(30)</td>\n",
              "    </tr>\n",
              "    <tr>\n",
              "      <th>...</th>\n",
              "      <td>...</td>\n",
              "      <td>...</td>\n",
              "    </tr>\n",
              "    <tr>\n",
              "      <th>147</th>\n",
              "      <td>0.001379</td>\n",
              "      <td>(20, 30)</td>\n",
              "    </tr>\n",
              "    <tr>\n",
              "      <th>148</th>\n",
              "      <td>0.001429</td>\n",
              "      <td>(20, 29, 23)</td>\n",
              "    </tr>\n",
              "    <tr>\n",
              "      <th>149</th>\n",
              "      <td>0.001999</td>\n",
              "      <td>(98, 99)</td>\n",
              "    </tr>\n",
              "    <tr>\n",
              "      <th>150</th>\n",
              "      <td>0.001227</td>\n",
              "      <td>(37, 30)</td>\n",
              "    </tr>\n",
              "    <tr>\n",
              "      <th>151</th>\n",
              "      <td>0.004807</td>\n",
              "      <td>(99, 100)</td>\n",
              "    </tr>\n",
              "  </tbody>\n",
              "</table>\n",
              "<p>152 rows × 2 columns</p>\n",
              "</div>\n",
              "      <button class=\"colab-df-convert\" onclick=\"convertToInteractive('df-dd22ba79-ff0b-42ef-8a65-ca7ee15330fe')\"\n",
              "              title=\"Convert this dataframe to an interactive table.\"\n",
              "              style=\"display:none;\">\n",
              "        \n",
              "  <svg xmlns=\"http://www.w3.org/2000/svg\" height=\"24px\"viewBox=\"0 0 24 24\"\n",
              "       width=\"24px\">\n",
              "    <path d=\"M0 0h24v24H0V0z\" fill=\"none\"/>\n",
              "    <path d=\"M18.56 5.44l.94 2.06.94-2.06 2.06-.94-2.06-.94-.94-2.06-.94 2.06-2.06.94zm-11 1L8.5 8.5l.94-2.06 2.06-.94-2.06-.94L8.5 2.5l-.94 2.06-2.06.94zm10 10l.94 2.06.94-2.06 2.06-.94-2.06-.94-.94-2.06-.94 2.06-2.06.94z\"/><path d=\"M17.41 7.96l-1.37-1.37c-.4-.4-.92-.59-1.43-.59-.52 0-1.04.2-1.43.59L10.3 9.45l-7.72 7.72c-.78.78-.78 2.05 0 2.83L4 21.41c.39.39.9.59 1.41.59.51 0 1.02-.2 1.41-.59l7.78-7.78 2.81-2.81c.8-.78.8-2.07 0-2.86zM5.41 20L4 18.59l7.72-7.72 1.47 1.35L5.41 20z\"/>\n",
              "  </svg>\n",
              "      </button>\n",
              "      \n",
              "  <style>\n",
              "    .colab-df-container {\n",
              "      display:flex;\n",
              "      flex-wrap:wrap;\n",
              "      gap: 12px;\n",
              "    }\n",
              "\n",
              "    .colab-df-convert {\n",
              "      background-color: #E8F0FE;\n",
              "      border: none;\n",
              "      border-radius: 50%;\n",
              "      cursor: pointer;\n",
              "      display: none;\n",
              "      fill: #1967D2;\n",
              "      height: 32px;\n",
              "      padding: 0 0 0 0;\n",
              "      width: 32px;\n",
              "    }\n",
              "\n",
              "    .colab-df-convert:hover {\n",
              "      background-color: #E2EBFA;\n",
              "      box-shadow: 0px 1px 2px rgba(60, 64, 67, 0.3), 0px 1px 3px 1px rgba(60, 64, 67, 0.15);\n",
              "      fill: #174EA6;\n",
              "    }\n",
              "\n",
              "    [theme=dark] .colab-df-convert {\n",
              "      background-color: #3B4455;\n",
              "      fill: #D2E3FC;\n",
              "    }\n",
              "\n",
              "    [theme=dark] .colab-df-convert:hover {\n",
              "      background-color: #434B5C;\n",
              "      box-shadow: 0px 1px 3px 1px rgba(0, 0, 0, 0.15);\n",
              "      filter: drop-shadow(0px 1px 2px rgba(0, 0, 0, 0.3));\n",
              "      fill: #FFFFFF;\n",
              "    }\n",
              "  </style>\n",
              "\n",
              "      <script>\n",
              "        const buttonEl =\n",
              "          document.querySelector('#df-dd22ba79-ff0b-42ef-8a65-ca7ee15330fe button.colab-df-convert');\n",
              "        buttonEl.style.display =\n",
              "          google.colab.kernel.accessAllowed ? 'block' : 'none';\n",
              "\n",
              "        async function convertToInteractive(key) {\n",
              "          const element = document.querySelector('#df-dd22ba79-ff0b-42ef-8a65-ca7ee15330fe');\n",
              "          const dataTable =\n",
              "            await google.colab.kernel.invokeFunction('convertToInteractive',\n",
              "                                                     [key], {});\n",
              "          if (!dataTable) return;\n",
              "\n",
              "          const docLinkHtml = 'Like what you see? Visit the ' +\n",
              "            '<a target=\"_blank\" href=https://colab.research.google.com/notebooks/data_table.ipynb>data table notebook</a>'\n",
              "            + ' to learn more about interactive tables.';\n",
              "          element.innerHTML = '';\n",
              "          dataTable['output_type'] = 'display_data';\n",
              "          await google.colab.output.renderOutput(dataTable, element);\n",
              "          const docLink = document.createElement('div');\n",
              "          docLink.innerHTML = docLinkHtml;\n",
              "          element.appendChild(docLink);\n",
              "        }\n",
              "      </script>\n",
              "    </div>\n",
              "  </div>\n",
              "  "
            ]
          },
          "metadata": {},
          "execution_count": 19
        }
      ]
    },
    {
      "cell_type": "markdown",
      "source": [
        "Adding column names"
      ],
      "metadata": {
        "id": "_1a4qRlpFkSZ"
      }
    },
    {
      "cell_type": "code",
      "source": [
        "apriori(prod_df, min_support=0.10, use_colnames=True)"
      ],
      "metadata": {
        "id": "vTwStn2vFf0x"
      },
      "execution_count": null,
      "outputs": []
    },
    {
      "cell_type": "markdown",
      "source": [
        "\n",
        "##Findings \n",
        "At this point, we can see that the dataset is arguably too complex to be represented with association rules. \n",
        "\n",
        "What I am going to try instead is looking for category purchases that are similar within an orderID"
      ],
      "metadata": {
        "id": "TvJq-PBLGrrE"
      }
    },
    {
      "cell_type": "code",
      "source": [
        "cat_dataset = df.groupby('order_id')['category_code'].apply(list).tolist()"
      ],
      "metadata": {
        "colab": {
          "base_uri": "https://localhost:8080/"
        },
        "id": "6Sx8QgqkG9vS",
        "outputId": "3ce69c2f-1ca7-4150-a93d-c47859a3852d"
      },
      "execution_count": null,
      "outputs": [
        {
          "output_type": "stream",
          "name": "stderr",
          "text": [
            "/usr/local/lib/python3.10/dist-packages/ipykernel/ipkernel.py:283: DeprecationWarning: `should_run_async` will not call `transform_cell` automatically in the future. Please pass the result to `transformed_cell` argument and any exception that happen during thetransform in `preprocessing_exc_tuple` in IPython 7.17 and above.\n",
            "  and should_run_async(code)\n"
          ]
        }
      ]
    },
    {
      "cell_type": "code",
      "source": [
        "te2 = TransactionEncoder()\n",
        "oht_ary2 = te2.fit(cat_dataset).transform(cat_dataset, sparse = True)\n",
        "cat_df = pd.DataFrame.sparse.from_spmatrix(oht_ary2, columns=te2.columns_)"
      ],
      "metadata": {
        "colab": {
          "base_uri": "https://localhost:8080/"
        },
        "id": "_co9qG2XHIJb",
        "outputId": "abcddfbc-4596-4624-e479-b1fb56fc24ee"
      },
      "execution_count": null,
      "outputs": [
        {
          "output_type": "stream",
          "name": "stderr",
          "text": [
            "/usr/local/lib/python3.10/dist-packages/ipykernel/ipkernel.py:283: DeprecationWarning: `should_run_async` will not call `transform_cell` automatically in the future. Please pass the result to `transformed_cell` argument and any exception that happen during thetransform in `preprocessing_exc_tuple` in IPython 7.17 and above.\n",
            "  and should_run_async(code)\n"
          ]
        }
      ]
    },
    {
      "cell_type": "markdown",
      "source": [
        "Having to set a tiny support value to get results 😔 and using fpgrowth which is for ecommerce examples: https://rasbt.github.io/mlxtend/user_guide/frequent_patterns/fpgrowth/"
      ],
      "metadata": {
        "id": "D9Ubz4MdM0GQ"
      }
    },
    {
      "cell_type": "code",
      "source": [
        "fpgrowth(cat_df, min_support=0.0025)"
      ],
      "metadata": {
        "colab": {
          "base_uri": "https://localhost:8080/",
          "height": 479
        },
        "id": "hXlaKozeHR2v",
        "outputId": "af82fd80-9fa4-48f6-cec9-1822f2eb666f"
      },
      "execution_count": null,
      "outputs": [
        {
          "output_type": "stream",
          "name": "stderr",
          "text": [
            "/usr/local/lib/python3.10/dist-packages/ipykernel/ipkernel.py:283: DeprecationWarning: `should_run_async` will not call `transform_cell` automatically in the future. Please pass the result to `transformed_cell` argument and any exception that happen during thetransform in `preprocessing_exc_tuple` in IPython 7.17 and above.\n",
            "  and should_run_async(code)\n"
          ]
        },
        {
          "output_type": "execute_result",
          "data": {
            "text/plain": [
              "     support   itemsets\n",
              "0   0.016770       (89)\n",
              "1   0.054661       (81)\n",
              "2   0.036197       (99)\n",
              "3   0.273765       (88)\n",
              "4   0.063376       (30)\n",
              "..       ...        ...\n",
              "69  0.003879   (30, 23)\n",
              "70  0.007814   (29, 23)\n",
              "71  0.002695   (33, 29)\n",
              "72  0.003255   (29, 30)\n",
              "73  0.004807  (99, 100)\n",
              "\n",
              "[74 rows x 2 columns]"
            ],
            "text/html": [
              "\n",
              "  <div id=\"df-e80c89f4-8335-4f0b-a0e2-309ef2adb0ef\">\n",
              "    <div class=\"colab-df-container\">\n",
              "      <div>\n",
              "<style scoped>\n",
              "    .dataframe tbody tr th:only-of-type {\n",
              "        vertical-align: middle;\n",
              "    }\n",
              "\n",
              "    .dataframe tbody tr th {\n",
              "        vertical-align: top;\n",
              "    }\n",
              "\n",
              "    .dataframe thead th {\n",
              "        text-align: right;\n",
              "    }\n",
              "</style>\n",
              "<table border=\"1\" class=\"dataframe\">\n",
              "  <thead>\n",
              "    <tr style=\"text-align: right;\">\n",
              "      <th></th>\n",
              "      <th>support</th>\n",
              "      <th>itemsets</th>\n",
              "    </tr>\n",
              "  </thead>\n",
              "  <tbody>\n",
              "    <tr>\n",
              "      <th>0</th>\n",
              "      <td>0.016770</td>\n",
              "      <td>(89)</td>\n",
              "    </tr>\n",
              "    <tr>\n",
              "      <th>1</th>\n",
              "      <td>0.054661</td>\n",
              "      <td>(81)</td>\n",
              "    </tr>\n",
              "    <tr>\n",
              "      <th>2</th>\n",
              "      <td>0.036197</td>\n",
              "      <td>(99)</td>\n",
              "    </tr>\n",
              "    <tr>\n",
              "      <th>3</th>\n",
              "      <td>0.273765</td>\n",
              "      <td>(88)</td>\n",
              "    </tr>\n",
              "    <tr>\n",
              "      <th>4</th>\n",
              "      <td>0.063376</td>\n",
              "      <td>(30)</td>\n",
              "    </tr>\n",
              "    <tr>\n",
              "      <th>...</th>\n",
              "      <td>...</td>\n",
              "      <td>...</td>\n",
              "    </tr>\n",
              "    <tr>\n",
              "      <th>69</th>\n",
              "      <td>0.003879</td>\n",
              "      <td>(30, 23)</td>\n",
              "    </tr>\n",
              "    <tr>\n",
              "      <th>70</th>\n",
              "      <td>0.007814</td>\n",
              "      <td>(29, 23)</td>\n",
              "    </tr>\n",
              "    <tr>\n",
              "      <th>71</th>\n",
              "      <td>0.002695</td>\n",
              "      <td>(33, 29)</td>\n",
              "    </tr>\n",
              "    <tr>\n",
              "      <th>72</th>\n",
              "      <td>0.003255</td>\n",
              "      <td>(29, 30)</td>\n",
              "    </tr>\n",
              "    <tr>\n",
              "      <th>73</th>\n",
              "      <td>0.004807</td>\n",
              "      <td>(99, 100)</td>\n",
              "    </tr>\n",
              "  </tbody>\n",
              "</table>\n",
              "<p>74 rows × 2 columns</p>\n",
              "</div>\n",
              "      <button class=\"colab-df-convert\" onclick=\"convertToInteractive('df-e80c89f4-8335-4f0b-a0e2-309ef2adb0ef')\"\n",
              "              title=\"Convert this dataframe to an interactive table.\"\n",
              "              style=\"display:none;\">\n",
              "        \n",
              "  <svg xmlns=\"http://www.w3.org/2000/svg\" height=\"24px\"viewBox=\"0 0 24 24\"\n",
              "       width=\"24px\">\n",
              "    <path d=\"M0 0h24v24H0V0z\" fill=\"none\"/>\n",
              "    <path d=\"M18.56 5.44l.94 2.06.94-2.06 2.06-.94-2.06-.94-.94-2.06-.94 2.06-2.06.94zm-11 1L8.5 8.5l.94-2.06 2.06-.94-2.06-.94L8.5 2.5l-.94 2.06-2.06.94zm10 10l.94 2.06.94-2.06 2.06-.94-2.06-.94-.94-2.06-.94 2.06-2.06.94z\"/><path d=\"M17.41 7.96l-1.37-1.37c-.4-.4-.92-.59-1.43-.59-.52 0-1.04.2-1.43.59L10.3 9.45l-7.72 7.72c-.78.78-.78 2.05 0 2.83L4 21.41c.39.39.9.59 1.41.59.51 0 1.02-.2 1.41-.59l7.78-7.78 2.81-2.81c.8-.78.8-2.07 0-2.86zM5.41 20L4 18.59l7.72-7.72 1.47 1.35L5.41 20z\"/>\n",
              "  </svg>\n",
              "      </button>\n",
              "      \n",
              "  <style>\n",
              "    .colab-df-container {\n",
              "      display:flex;\n",
              "      flex-wrap:wrap;\n",
              "      gap: 12px;\n",
              "    }\n",
              "\n",
              "    .colab-df-convert {\n",
              "      background-color: #E8F0FE;\n",
              "      border: none;\n",
              "      border-radius: 50%;\n",
              "      cursor: pointer;\n",
              "      display: none;\n",
              "      fill: #1967D2;\n",
              "      height: 32px;\n",
              "      padding: 0 0 0 0;\n",
              "      width: 32px;\n",
              "    }\n",
              "\n",
              "    .colab-df-convert:hover {\n",
              "      background-color: #E2EBFA;\n",
              "      box-shadow: 0px 1px 2px rgba(60, 64, 67, 0.3), 0px 1px 3px 1px rgba(60, 64, 67, 0.15);\n",
              "      fill: #174EA6;\n",
              "    }\n",
              "\n",
              "    [theme=dark] .colab-df-convert {\n",
              "      background-color: #3B4455;\n",
              "      fill: #D2E3FC;\n",
              "    }\n",
              "\n",
              "    [theme=dark] .colab-df-convert:hover {\n",
              "      background-color: #434B5C;\n",
              "      box-shadow: 0px 1px 3px 1px rgba(0, 0, 0, 0.15);\n",
              "      filter: drop-shadow(0px 1px 2px rgba(0, 0, 0, 0.3));\n",
              "      fill: #FFFFFF;\n",
              "    }\n",
              "  </style>\n",
              "\n",
              "      <script>\n",
              "        const buttonEl =\n",
              "          document.querySelector('#df-e80c89f4-8335-4f0b-a0e2-309ef2adb0ef button.colab-df-convert');\n",
              "        buttonEl.style.display =\n",
              "          google.colab.kernel.accessAllowed ? 'block' : 'none';\n",
              "\n",
              "        async function convertToInteractive(key) {\n",
              "          const element = document.querySelector('#df-e80c89f4-8335-4f0b-a0e2-309ef2adb0ef');\n",
              "          const dataTable =\n",
              "            await google.colab.kernel.invokeFunction('convertToInteractive',\n",
              "                                                     [key], {});\n",
              "          if (!dataTable) return;\n",
              "\n",
              "          const docLinkHtml = 'Like what you see? Visit the ' +\n",
              "            '<a target=\"_blank\" href=https://colab.research.google.com/notebooks/data_table.ipynb>data table notebook</a>'\n",
              "            + ' to learn more about interactive tables.';\n",
              "          element.innerHTML = '';\n",
              "          dataTable['output_type'] = 'display_data';\n",
              "          await google.colab.output.renderOutput(dataTable, element);\n",
              "          const docLink = document.createElement('div');\n",
              "          docLink.innerHTML = docLinkHtml;\n",
              "          element.appendChild(docLink);\n",
              "        }\n",
              "      </script>\n",
              "    </div>\n",
              "  </div>\n",
              "  "
            ]
          },
          "metadata": {},
          "execution_count": 23
        }
      ]
    },
    {
      "cell_type": "code",
      "source": [
        "frequent_itemsets = fpgrowth(cat_df, min_support=0.00025, use_colnames = True)"
      ],
      "metadata": {
        "colab": {
          "base_uri": "https://localhost:8080/"
        },
        "id": "r23UL5C5FlsG",
        "outputId": "fc70bc7d-80d9-4d41-b570-6ff2bb6a134b"
      },
      "execution_count": null,
      "outputs": [
        {
          "output_type": "stream",
          "name": "stderr",
          "text": [
            "/usr/local/lib/python3.10/dist-packages/ipykernel/ipkernel.py:283: DeprecationWarning: `should_run_async` will not call `transform_cell` automatically in the future. Please pass the result to `transformed_cell` argument and any exception that happen during thetransform in `preprocessing_exc_tuple` in IPython 7.17 and above.\n",
            "  and should_run_async(code)\n"
          ]
        }
      ]
    },
    {
      "cell_type": "markdown",
      "source": [
        "### Example of subsetting with counts, e.g. an itemset of 2 or more"
      ],
      "metadata": {
        "id": "rU_FD7zNVXmU"
      }
    },
    {
      "cell_type": "code",
      "source": [
        "frequent_itemsets['length'] = frequent_itemsets['itemsets'].apply(lambda x: len(x))"
      ],
      "metadata": {
        "colab": {
          "base_uri": "https://localhost:8080/"
        },
        "id": "F3QazZihNKQN",
        "outputId": "01975b93-4551-463e-f831-313dd5af39c9"
      },
      "execution_count": null,
      "outputs": [
        {
          "output_type": "stream",
          "name": "stderr",
          "text": [
            "/usr/local/lib/python3.10/dist-packages/ipykernel/ipkernel.py:283: DeprecationWarning: `should_run_async` will not call `transform_cell` automatically in the future. Please pass the result to `transformed_cell` argument and any exception that happen during thetransform in `preprocessing_exc_tuple` in IPython 7.17 and above.\n",
            "  and should_run_async(code)\n"
          ]
        }
      ]
    },
    {
      "cell_type": "code",
      "source": [
        "frequent_itemsets_subset = frequent_itemsets[ (frequent_itemsets['length'] == 2) ]"
      ],
      "metadata": {
        "colab": {
          "base_uri": "https://localhost:8080/"
        },
        "id": "jQeK7uh7Fz1Z",
        "outputId": "035790ae-0422-4e6c-f401-41c3f9fb7cbf"
      },
      "execution_count": null,
      "outputs": [
        {
          "output_type": "stream",
          "name": "stderr",
          "text": [
            "/usr/local/lib/python3.10/dist-packages/ipykernel/ipkernel.py:283: DeprecationWarning: `should_run_async` will not call `transform_cell` automatically in the future. Please pass the result to `transformed_cell` argument and any exception that happen during thetransform in `preprocessing_exc_tuple` in IPython 7.17 and above.\n",
            "  and should_run_async(code)\n"
          ]
        }
      ]
    },
    {
      "cell_type": "code",
      "source": [
        "frequent_itemsets_subset"
      ],
      "metadata": {
        "colab": {
          "base_uri": "https://localhost:8080/",
          "height": 479
        },
        "id": "zjbs2Mo_NMVr",
        "outputId": "b1e220dd-b7a2-4cf5-a334-10df939aa4ef"
      },
      "execution_count": null,
      "outputs": [
        {
          "output_type": "stream",
          "name": "stderr",
          "text": [
            "/usr/local/lib/python3.10/dist-packages/ipykernel/ipkernel.py:283: DeprecationWarning: `should_run_async` will not call `transform_cell` automatically in the future. Please pass the result to `transformed_cell` argument and any exception that happen during thetransform in `preprocessing_exc_tuple` in IPython 7.17 and above.\n",
            "  and should_run_async(code)\n"
          ]
        },
        {
          "output_type": "execute_result",
          "data": {
            "text/plain": [
              "      support                                           itemsets  length\n",
              "84   0.000504  (electronics.audio.headphone, electronics.tablet)       2\n",
              "85   0.002099       (electronics.smartphone, electronics.tablet)       2\n",
              "86   0.000350           (computers.notebook, electronics.tablet)       2\n",
              "87   0.000558         (electronics.video.tv, electronics.tablet)       2\n",
              "89   0.008456  (electronics.smartphone, electronics.audio.hea...       2\n",
              "..        ...                                                ...     ...\n",
              "440  0.000422  (computers.components.motherboard, computers.c...       2\n",
              "441  0.000478  (computers.components.motherboard, computers.c...       2\n",
              "442  0.000330  (computers.components.motherboard, computers.c...       2\n",
              "463  0.000540  (furniture.bedroom.blanket, appliances.kitchen...       2\n",
              "464  0.000335  (appliances.kitchen.refrigerators, furniture.b...       2\n",
              "\n",
              "[266 rows x 3 columns]"
            ],
            "text/html": [
              "\n",
              "  <div id=\"df-c20fffb4-bf79-4e11-aff2-8df9eb2f6eb8\">\n",
              "    <div class=\"colab-df-container\">\n",
              "      <div>\n",
              "<style scoped>\n",
              "    .dataframe tbody tr th:only-of-type {\n",
              "        vertical-align: middle;\n",
              "    }\n",
              "\n",
              "    .dataframe tbody tr th {\n",
              "        vertical-align: top;\n",
              "    }\n",
              "\n",
              "    .dataframe thead th {\n",
              "        text-align: right;\n",
              "    }\n",
              "</style>\n",
              "<table border=\"1\" class=\"dataframe\">\n",
              "  <thead>\n",
              "    <tr style=\"text-align: right;\">\n",
              "      <th></th>\n",
              "      <th>support</th>\n",
              "      <th>itemsets</th>\n",
              "      <th>length</th>\n",
              "    </tr>\n",
              "  </thead>\n",
              "  <tbody>\n",
              "    <tr>\n",
              "      <th>84</th>\n",
              "      <td>0.000504</td>\n",
              "      <td>(electronics.audio.headphone, electronics.tablet)</td>\n",
              "      <td>2</td>\n",
              "    </tr>\n",
              "    <tr>\n",
              "      <th>85</th>\n",
              "      <td>0.002099</td>\n",
              "      <td>(electronics.smartphone, electronics.tablet)</td>\n",
              "      <td>2</td>\n",
              "    </tr>\n",
              "    <tr>\n",
              "      <th>86</th>\n",
              "      <td>0.000350</td>\n",
              "      <td>(computers.notebook, electronics.tablet)</td>\n",
              "      <td>2</td>\n",
              "    </tr>\n",
              "    <tr>\n",
              "      <th>87</th>\n",
              "      <td>0.000558</td>\n",
              "      <td>(electronics.video.tv, electronics.tablet)</td>\n",
              "      <td>2</td>\n",
              "    </tr>\n",
              "    <tr>\n",
              "      <th>89</th>\n",
              "      <td>0.008456</td>\n",
              "      <td>(electronics.smartphone, electronics.audio.hea...</td>\n",
              "      <td>2</td>\n",
              "    </tr>\n",
              "    <tr>\n",
              "      <th>...</th>\n",
              "      <td>...</td>\n",
              "      <td>...</td>\n",
              "      <td>...</td>\n",
              "    </tr>\n",
              "    <tr>\n",
              "      <th>440</th>\n",
              "      <td>0.000422</td>\n",
              "      <td>(computers.components.motherboard, computers.c...</td>\n",
              "      <td>2</td>\n",
              "    </tr>\n",
              "    <tr>\n",
              "      <th>441</th>\n",
              "      <td>0.000478</td>\n",
              "      <td>(computers.components.motherboard, computers.c...</td>\n",
              "      <td>2</td>\n",
              "    </tr>\n",
              "    <tr>\n",
              "      <th>442</th>\n",
              "      <td>0.000330</td>\n",
              "      <td>(computers.components.motherboard, computers.c...</td>\n",
              "      <td>2</td>\n",
              "    </tr>\n",
              "    <tr>\n",
              "      <th>463</th>\n",
              "      <td>0.000540</td>\n",
              "      <td>(furniture.bedroom.blanket, appliances.kitchen...</td>\n",
              "      <td>2</td>\n",
              "    </tr>\n",
              "    <tr>\n",
              "      <th>464</th>\n",
              "      <td>0.000335</td>\n",
              "      <td>(appliances.kitchen.refrigerators, furniture.b...</td>\n",
              "      <td>2</td>\n",
              "    </tr>\n",
              "  </tbody>\n",
              "</table>\n",
              "<p>266 rows × 3 columns</p>\n",
              "</div>\n",
              "      <button class=\"colab-df-convert\" onclick=\"convertToInteractive('df-c20fffb4-bf79-4e11-aff2-8df9eb2f6eb8')\"\n",
              "              title=\"Convert this dataframe to an interactive table.\"\n",
              "              style=\"display:none;\">\n",
              "        \n",
              "  <svg xmlns=\"http://www.w3.org/2000/svg\" height=\"24px\"viewBox=\"0 0 24 24\"\n",
              "       width=\"24px\">\n",
              "    <path d=\"M0 0h24v24H0V0z\" fill=\"none\"/>\n",
              "    <path d=\"M18.56 5.44l.94 2.06.94-2.06 2.06-.94-2.06-.94-.94-2.06-.94 2.06-2.06.94zm-11 1L8.5 8.5l.94-2.06 2.06-.94-2.06-.94L8.5 2.5l-.94 2.06-2.06.94zm10 10l.94 2.06.94-2.06 2.06-.94-2.06-.94-.94-2.06-.94 2.06-2.06.94z\"/><path d=\"M17.41 7.96l-1.37-1.37c-.4-.4-.92-.59-1.43-.59-.52 0-1.04.2-1.43.59L10.3 9.45l-7.72 7.72c-.78.78-.78 2.05 0 2.83L4 21.41c.39.39.9.59 1.41.59.51 0 1.02-.2 1.41-.59l7.78-7.78 2.81-2.81c.8-.78.8-2.07 0-2.86zM5.41 20L4 18.59l7.72-7.72 1.47 1.35L5.41 20z\"/>\n",
              "  </svg>\n",
              "      </button>\n",
              "      \n",
              "  <style>\n",
              "    .colab-df-container {\n",
              "      display:flex;\n",
              "      flex-wrap:wrap;\n",
              "      gap: 12px;\n",
              "    }\n",
              "\n",
              "    .colab-df-convert {\n",
              "      background-color: #E8F0FE;\n",
              "      border: none;\n",
              "      border-radius: 50%;\n",
              "      cursor: pointer;\n",
              "      display: none;\n",
              "      fill: #1967D2;\n",
              "      height: 32px;\n",
              "      padding: 0 0 0 0;\n",
              "      width: 32px;\n",
              "    }\n",
              "\n",
              "    .colab-df-convert:hover {\n",
              "      background-color: #E2EBFA;\n",
              "      box-shadow: 0px 1px 2px rgba(60, 64, 67, 0.3), 0px 1px 3px 1px rgba(60, 64, 67, 0.15);\n",
              "      fill: #174EA6;\n",
              "    }\n",
              "\n",
              "    [theme=dark] .colab-df-convert {\n",
              "      background-color: #3B4455;\n",
              "      fill: #D2E3FC;\n",
              "    }\n",
              "\n",
              "    [theme=dark] .colab-df-convert:hover {\n",
              "      background-color: #434B5C;\n",
              "      box-shadow: 0px 1px 3px 1px rgba(0, 0, 0, 0.15);\n",
              "      filter: drop-shadow(0px 1px 2px rgba(0, 0, 0, 0.3));\n",
              "      fill: #FFFFFF;\n",
              "    }\n",
              "  </style>\n",
              "\n",
              "      <script>\n",
              "        const buttonEl =\n",
              "          document.querySelector('#df-c20fffb4-bf79-4e11-aff2-8df9eb2f6eb8 button.colab-df-convert');\n",
              "        buttonEl.style.display =\n",
              "          google.colab.kernel.accessAllowed ? 'block' : 'none';\n",
              "\n",
              "        async function convertToInteractive(key) {\n",
              "          const element = document.querySelector('#df-c20fffb4-bf79-4e11-aff2-8df9eb2f6eb8');\n",
              "          const dataTable =\n",
              "            await google.colab.kernel.invokeFunction('convertToInteractive',\n",
              "                                                     [key], {});\n",
              "          if (!dataTable) return;\n",
              "\n",
              "          const docLinkHtml = 'Like what you see? Visit the ' +\n",
              "            '<a target=\"_blank\" href=https://colab.research.google.com/notebooks/data_table.ipynb>data table notebook</a>'\n",
              "            + ' to learn more about interactive tables.';\n",
              "          element.innerHTML = '';\n",
              "          dataTable['output_type'] = 'display_data';\n",
              "          await google.colab.output.renderOutput(dataTable, element);\n",
              "          const docLink = document.createElement('div');\n",
              "          docLink.innerHTML = docLinkHtml;\n",
              "          element.appendChild(docLink);\n",
              "        }\n",
              "      </script>\n",
              "    </div>\n",
              "  </div>\n",
              "  "
            ]
          },
          "metadata": {},
          "execution_count": 27
        }
      ]
    },
    {
      "cell_type": "code",
      "source": [
        "from mlxtend.frequent_patterns import association_rules\n",
        "rules = association_rules(frequent_itemsets, metric=\"lift\", min_threshold=1)"
      ],
      "metadata": {
        "colab": {
          "base_uri": "https://localhost:8080/"
        },
        "id": "Vsv97YOYNqVb",
        "outputId": "7e0d5290-f41c-4b86-b893-21f4e1030fdf"
      },
      "execution_count": null,
      "outputs": [
        {
          "output_type": "stream",
          "name": "stderr",
          "text": [
            "/usr/local/lib/python3.10/dist-packages/ipykernel/ipkernel.py:283: DeprecationWarning: `should_run_async` will not call `transform_cell` automatically in the future. Please pass the result to `transformed_cell` argument and any exception that happen during thetransform in `preprocessing_exc_tuple` in IPython 7.17 and above.\n",
            "  and should_run_async(code)\n"
          ]
        }
      ]
    },
    {
      "cell_type": "markdown",
      "source": [
        "For my example, I want only one antecedent (bread -> wine, bread is the antecedent), with a confidence score greater than 20% and a lift score greater than 1"
      ],
      "metadata": {
        "id": "O3WZrIMfOr6M"
      }
    },
    {
      "cell_type": "code",
      "source": [
        "rules[\"antecedent_len\"] = rules[\"antecedents\"].apply(lambda x: len(x))\n",
        "rules"
      ],
      "metadata": {
        "colab": {
          "base_uri": "https://localhost:8080/",
          "height": 628
        },
        "id": "CHOjHivtOrNo",
        "outputId": "637d5e56-b8e9-4eac-e8bd-4a8643992e59"
      },
      "execution_count": null,
      "outputs": [
        {
          "output_type": "stream",
          "name": "stderr",
          "text": [
            "/usr/local/lib/python3.10/dist-packages/ipykernel/ipkernel.py:283: DeprecationWarning: `should_run_async` will not call `transform_cell` automatically in the future. Please pass the result to `transformed_cell` argument and any exception that happen during thetransform in `preprocessing_exc_tuple` in IPython 7.17 and above.\n",
            "  and should_run_async(code)\n"
          ]
        },
        {
          "output_type": "execute_result",
          "data": {
            "text/plain": [
              "                                         antecedents  \\\n",
              "0     (electronics.smartphone, electronics.video.tv)   \n",
              "1       (electronics.smartphone, electronics.tablet)   \n",
              "2         (electronics.video.tv, electronics.tablet)   \n",
              "3                           (electronics.smartphone)   \n",
              "4                             (electronics.video.tv)   \n",
              "...                                              ...   \n",
              "1163             (computers.components.power_supply)   \n",
              "1164                     (furniture.bedroom.blanket)   \n",
              "1165                     (appliances.kitchen.washer)   \n",
              "1166              (appliances.kitchen.refrigerators)   \n",
              "1167                     (furniture.bedroom.blanket)   \n",
              "\n",
              "                                            consequents  antecedent support  \\\n",
              "0                                  (electronics.tablet)            0.011105   \n",
              "1                                (electronics.video.tv)            0.002099   \n",
              "2                              (electronics.smartphone)            0.000558   \n",
              "3            (electronics.video.tv, electronics.tablet)            0.273765   \n",
              "4          (electronics.smartphone, electronics.tablet)            0.060645   \n",
              "...                                                 ...                 ...   \n",
              "1163  (computers.components.motherboard, computers.c...            0.001125   \n",
              "1164                        (appliances.kitchen.washer)            0.000750   \n",
              "1165                        (furniture.bedroom.blanket)            0.046336   \n",
              "1166                        (furniture.bedroom.blanket)            0.063376   \n",
              "1167                 (appliances.kitchen.refrigerators)            0.000750   \n",
              "\n",
              "      consequent support   support  confidence        lift  leverage  \\\n",
              "0               0.016770  0.000352    0.031737    1.892482  0.000166   \n",
              "1               0.060645  0.000352    0.167917    2.768861  0.000225   \n",
              "2               0.273765  0.000352    0.631661    2.307315  0.000200   \n",
              "3               0.000558  0.000352    0.001287    2.307315  0.000200   \n",
              "4               0.002099  0.000352    0.005812    2.768861  0.000225   \n",
              "...                  ...       ...         ...         ...       ...   \n",
              "1163            0.000296  0.000262    0.233281  786.824757  0.000262   \n",
              "1164            0.046336  0.000540    0.719953   15.537517  0.000505   \n",
              "1165            0.000750  0.000540    0.011646   15.537517  0.000505   \n",
              "1166            0.000750  0.000335    0.005285    7.051688  0.000287   \n",
              "1167            0.063376  0.000335    0.446908    7.051688  0.000287   \n",
              "\n",
              "      conviction  zhangs_metric  antecedent_len  \n",
              "0       1.015458       0.476890               2  \n",
              "1       1.128920       0.640184               2  \n",
              "2       1.971652       0.566912               2  \n",
              "3       1.000730       0.780182               1  \n",
              "4       1.003735       0.680084               1  \n",
              "...          ...            ...             ...  \n",
              "1163    1.303873       0.999854               1  \n",
              "1164    3.405374       0.936341               1  \n",
              "1165    1.011025       0.981100               1  \n",
              "1166    1.004560       0.916259               1  \n",
              "1167    1.693432       0.858834               1  \n",
              "\n",
              "[1168 rows x 11 columns]"
            ],
            "text/html": [
              "\n",
              "  <div id=\"df-b8e20031-272f-41a9-b327-12e20d221e21\">\n",
              "    <div class=\"colab-df-container\">\n",
              "      <div>\n",
              "<style scoped>\n",
              "    .dataframe tbody tr th:only-of-type {\n",
              "        vertical-align: middle;\n",
              "    }\n",
              "\n",
              "    .dataframe tbody tr th {\n",
              "        vertical-align: top;\n",
              "    }\n",
              "\n",
              "    .dataframe thead th {\n",
              "        text-align: right;\n",
              "    }\n",
              "</style>\n",
              "<table border=\"1\" class=\"dataframe\">\n",
              "  <thead>\n",
              "    <tr style=\"text-align: right;\">\n",
              "      <th></th>\n",
              "      <th>antecedents</th>\n",
              "      <th>consequents</th>\n",
              "      <th>antecedent support</th>\n",
              "      <th>consequent support</th>\n",
              "      <th>support</th>\n",
              "      <th>confidence</th>\n",
              "      <th>lift</th>\n",
              "      <th>leverage</th>\n",
              "      <th>conviction</th>\n",
              "      <th>zhangs_metric</th>\n",
              "      <th>antecedent_len</th>\n",
              "    </tr>\n",
              "  </thead>\n",
              "  <tbody>\n",
              "    <tr>\n",
              "      <th>0</th>\n",
              "      <td>(electronics.smartphone, electronics.video.tv)</td>\n",
              "      <td>(electronics.tablet)</td>\n",
              "      <td>0.011105</td>\n",
              "      <td>0.016770</td>\n",
              "      <td>0.000352</td>\n",
              "      <td>0.031737</td>\n",
              "      <td>1.892482</td>\n",
              "      <td>0.000166</td>\n",
              "      <td>1.015458</td>\n",
              "      <td>0.476890</td>\n",
              "      <td>2</td>\n",
              "    </tr>\n",
              "    <tr>\n",
              "      <th>1</th>\n",
              "      <td>(electronics.smartphone, electronics.tablet)</td>\n",
              "      <td>(electronics.video.tv)</td>\n",
              "      <td>0.002099</td>\n",
              "      <td>0.060645</td>\n",
              "      <td>0.000352</td>\n",
              "      <td>0.167917</td>\n",
              "      <td>2.768861</td>\n",
              "      <td>0.000225</td>\n",
              "      <td>1.128920</td>\n",
              "      <td>0.640184</td>\n",
              "      <td>2</td>\n",
              "    </tr>\n",
              "    <tr>\n",
              "      <th>2</th>\n",
              "      <td>(electronics.video.tv, electronics.tablet)</td>\n",
              "      <td>(electronics.smartphone)</td>\n",
              "      <td>0.000558</td>\n",
              "      <td>0.273765</td>\n",
              "      <td>0.000352</td>\n",
              "      <td>0.631661</td>\n",
              "      <td>2.307315</td>\n",
              "      <td>0.000200</td>\n",
              "      <td>1.971652</td>\n",
              "      <td>0.566912</td>\n",
              "      <td>2</td>\n",
              "    </tr>\n",
              "    <tr>\n",
              "      <th>3</th>\n",
              "      <td>(electronics.smartphone)</td>\n",
              "      <td>(electronics.video.tv, electronics.tablet)</td>\n",
              "      <td>0.273765</td>\n",
              "      <td>0.000558</td>\n",
              "      <td>0.000352</td>\n",
              "      <td>0.001287</td>\n",
              "      <td>2.307315</td>\n",
              "      <td>0.000200</td>\n",
              "      <td>1.000730</td>\n",
              "      <td>0.780182</td>\n",
              "      <td>1</td>\n",
              "    </tr>\n",
              "    <tr>\n",
              "      <th>4</th>\n",
              "      <td>(electronics.video.tv)</td>\n",
              "      <td>(electronics.smartphone, electronics.tablet)</td>\n",
              "      <td>0.060645</td>\n",
              "      <td>0.002099</td>\n",
              "      <td>0.000352</td>\n",
              "      <td>0.005812</td>\n",
              "      <td>2.768861</td>\n",
              "      <td>0.000225</td>\n",
              "      <td>1.003735</td>\n",
              "      <td>0.680084</td>\n",
              "      <td>1</td>\n",
              "    </tr>\n",
              "    <tr>\n",
              "      <th>...</th>\n",
              "      <td>...</td>\n",
              "      <td>...</td>\n",
              "      <td>...</td>\n",
              "      <td>...</td>\n",
              "      <td>...</td>\n",
              "      <td>...</td>\n",
              "      <td>...</td>\n",
              "      <td>...</td>\n",
              "      <td>...</td>\n",
              "      <td>...</td>\n",
              "      <td>...</td>\n",
              "    </tr>\n",
              "    <tr>\n",
              "      <th>1163</th>\n",
              "      <td>(computers.components.power_supply)</td>\n",
              "      <td>(computers.components.motherboard, computers.c...</td>\n",
              "      <td>0.001125</td>\n",
              "      <td>0.000296</td>\n",
              "      <td>0.000262</td>\n",
              "      <td>0.233281</td>\n",
              "      <td>786.824757</td>\n",
              "      <td>0.000262</td>\n",
              "      <td>1.303873</td>\n",
              "      <td>0.999854</td>\n",
              "      <td>1</td>\n",
              "    </tr>\n",
              "    <tr>\n",
              "      <th>1164</th>\n",
              "      <td>(furniture.bedroom.blanket)</td>\n",
              "      <td>(appliances.kitchen.washer)</td>\n",
              "      <td>0.000750</td>\n",
              "      <td>0.046336</td>\n",
              "      <td>0.000540</td>\n",
              "      <td>0.719953</td>\n",
              "      <td>15.537517</td>\n",
              "      <td>0.000505</td>\n",
              "      <td>3.405374</td>\n",
              "      <td>0.936341</td>\n",
              "      <td>1</td>\n",
              "    </tr>\n",
              "    <tr>\n",
              "      <th>1165</th>\n",
              "      <td>(appliances.kitchen.washer)</td>\n",
              "      <td>(furniture.bedroom.blanket)</td>\n",
              "      <td>0.046336</td>\n",
              "      <td>0.000750</td>\n",
              "      <td>0.000540</td>\n",
              "      <td>0.011646</td>\n",
              "      <td>15.537517</td>\n",
              "      <td>0.000505</td>\n",
              "      <td>1.011025</td>\n",
              "      <td>0.981100</td>\n",
              "      <td>1</td>\n",
              "    </tr>\n",
              "    <tr>\n",
              "      <th>1166</th>\n",
              "      <td>(appliances.kitchen.refrigerators)</td>\n",
              "      <td>(furniture.bedroom.blanket)</td>\n",
              "      <td>0.063376</td>\n",
              "      <td>0.000750</td>\n",
              "      <td>0.000335</td>\n",
              "      <td>0.005285</td>\n",
              "      <td>7.051688</td>\n",
              "      <td>0.000287</td>\n",
              "      <td>1.004560</td>\n",
              "      <td>0.916259</td>\n",
              "      <td>1</td>\n",
              "    </tr>\n",
              "    <tr>\n",
              "      <th>1167</th>\n",
              "      <td>(furniture.bedroom.blanket)</td>\n",
              "      <td>(appliances.kitchen.refrigerators)</td>\n",
              "      <td>0.000750</td>\n",
              "      <td>0.063376</td>\n",
              "      <td>0.000335</td>\n",
              "      <td>0.446908</td>\n",
              "      <td>7.051688</td>\n",
              "      <td>0.000287</td>\n",
              "      <td>1.693432</td>\n",
              "      <td>0.858834</td>\n",
              "      <td>1</td>\n",
              "    </tr>\n",
              "  </tbody>\n",
              "</table>\n",
              "<p>1168 rows × 11 columns</p>\n",
              "</div>\n",
              "      <button class=\"colab-df-convert\" onclick=\"convertToInteractive('df-b8e20031-272f-41a9-b327-12e20d221e21')\"\n",
              "              title=\"Convert this dataframe to an interactive table.\"\n",
              "              style=\"display:none;\">\n",
              "        \n",
              "  <svg xmlns=\"http://www.w3.org/2000/svg\" height=\"24px\"viewBox=\"0 0 24 24\"\n",
              "       width=\"24px\">\n",
              "    <path d=\"M0 0h24v24H0V0z\" fill=\"none\"/>\n",
              "    <path d=\"M18.56 5.44l.94 2.06.94-2.06 2.06-.94-2.06-.94-.94-2.06-.94 2.06-2.06.94zm-11 1L8.5 8.5l.94-2.06 2.06-.94-2.06-.94L8.5 2.5l-.94 2.06-2.06.94zm10 10l.94 2.06.94-2.06 2.06-.94-2.06-.94-.94-2.06-.94 2.06-2.06.94z\"/><path d=\"M17.41 7.96l-1.37-1.37c-.4-.4-.92-.59-1.43-.59-.52 0-1.04.2-1.43.59L10.3 9.45l-7.72 7.72c-.78.78-.78 2.05 0 2.83L4 21.41c.39.39.9.59 1.41.59.51 0 1.02-.2 1.41-.59l7.78-7.78 2.81-2.81c.8-.78.8-2.07 0-2.86zM5.41 20L4 18.59l7.72-7.72 1.47 1.35L5.41 20z\"/>\n",
              "  </svg>\n",
              "      </button>\n",
              "      \n",
              "  <style>\n",
              "    .colab-df-container {\n",
              "      display:flex;\n",
              "      flex-wrap:wrap;\n",
              "      gap: 12px;\n",
              "    }\n",
              "\n",
              "    .colab-df-convert {\n",
              "      background-color: #E8F0FE;\n",
              "      border: none;\n",
              "      border-radius: 50%;\n",
              "      cursor: pointer;\n",
              "      display: none;\n",
              "      fill: #1967D2;\n",
              "      height: 32px;\n",
              "      padding: 0 0 0 0;\n",
              "      width: 32px;\n",
              "    }\n",
              "\n",
              "    .colab-df-convert:hover {\n",
              "      background-color: #E2EBFA;\n",
              "      box-shadow: 0px 1px 2px rgba(60, 64, 67, 0.3), 0px 1px 3px 1px rgba(60, 64, 67, 0.15);\n",
              "      fill: #174EA6;\n",
              "    }\n",
              "\n",
              "    [theme=dark] .colab-df-convert {\n",
              "      background-color: #3B4455;\n",
              "      fill: #D2E3FC;\n",
              "    }\n",
              "\n",
              "    [theme=dark] .colab-df-convert:hover {\n",
              "      background-color: #434B5C;\n",
              "      box-shadow: 0px 1px 3px 1px rgba(0, 0, 0, 0.15);\n",
              "      filter: drop-shadow(0px 1px 2px rgba(0, 0, 0, 0.3));\n",
              "      fill: #FFFFFF;\n",
              "    }\n",
              "  </style>\n",
              "\n",
              "      <script>\n",
              "        const buttonEl =\n",
              "          document.querySelector('#df-b8e20031-272f-41a9-b327-12e20d221e21 button.colab-df-convert');\n",
              "        buttonEl.style.display =\n",
              "          google.colab.kernel.accessAllowed ? 'block' : 'none';\n",
              "\n",
              "        async function convertToInteractive(key) {\n",
              "          const element = document.querySelector('#df-b8e20031-272f-41a9-b327-12e20d221e21');\n",
              "          const dataTable =\n",
              "            await google.colab.kernel.invokeFunction('convertToInteractive',\n",
              "                                                     [key], {});\n",
              "          if (!dataTable) return;\n",
              "\n",
              "          const docLinkHtml = 'Like what you see? Visit the ' +\n",
              "            '<a target=\"_blank\" href=https://colab.research.google.com/notebooks/data_table.ipynb>data table notebook</a>'\n",
              "            + ' to learn more about interactive tables.';\n",
              "          element.innerHTML = '';\n",
              "          dataTable['output_type'] = 'display_data';\n",
              "          await google.colab.output.renderOutput(dataTable, element);\n",
              "          const docLink = document.createElement('div');\n",
              "          docLink.innerHTML = docLinkHtml;\n",
              "          element.appendChild(docLink);\n",
              "        }\n",
              "      </script>\n",
              "    </div>\n",
              "  </div>\n",
              "  "
            ]
          },
          "metadata": {},
          "execution_count": 29
        }
      ]
    },
    {
      "cell_type": "code",
      "source": [
        "rules_dataframe = rules[ (rules['antecedent_len'] == 1) &\n",
        "       (rules['confidence'] > 0.1) &\n",
        "       (rules['lift'] > 1) ]"
      ],
      "metadata": {
        "colab": {
          "base_uri": "https://localhost:8080/"
        },
        "id": "NlcoLmUDNuuS",
        "outputId": "0319f6ba-0be0-4bd1-8122-35985b513d74"
      },
      "execution_count": null,
      "outputs": [
        {
          "output_type": "stream",
          "name": "stderr",
          "text": [
            "/usr/local/lib/python3.10/dist-packages/ipykernel/ipkernel.py:283: DeprecationWarning: `should_run_async` will not call `transform_cell` automatically in the future. Please pass the result to `transformed_cell` argument and any exception that happen during thetransform in `preprocessing_exc_tuple` in IPython 7.17 and above.\n",
            "  and should_run_async(code)\n"
          ]
        }
      ]
    },
    {
      "cell_type": "code",
      "source": [
        "rules_dataframe"
      ],
      "metadata": {
        "colab": {
          "base_uri": "https://localhost:8080/",
          "height": 593
        },
        "id": "me6mcdyKPEYz",
        "outputId": "2b9e4977-c3cc-4572-f037-bfbaf38637b6"
      },
      "execution_count": null,
      "outputs": [
        {
          "output_type": "stream",
          "name": "stderr",
          "text": [
            "/usr/local/lib/python3.10/dist-packages/ipykernel/ipkernel.py:283: DeprecationWarning: `should_run_async` will not call `transform_cell` automatically in the future. Please pass the result to `transformed_cell` argument and any exception that happen during thetransform in `preprocessing_exc_tuple` in IPython 7.17 and above.\n",
            "  and should_run_async(code)\n"
          ]
        },
        {
          "output_type": "execute_result",
          "data": {
            "text/plain": [
              "                              antecedents  \\\n",
              "22        (computers.peripherals.monitor)   \n",
              "24        (computers.peripherals.monitor)   \n",
              "25       (computers.peripherals.keyboard)   \n",
              "30        (computers.peripherals.monitor)   \n",
              "52        (computers.peripherals.printer)   \n",
              "...                                   ...   \n",
              "1149  (computers.components.power_supply)   \n",
              "1161   (computers.components.motherboard)   \n",
              "1163  (computers.components.power_supply)   \n",
              "1164          (furniture.bedroom.blanket)   \n",
              "1167          (furniture.bedroom.blanket)   \n",
              "\n",
              "                                            consequents  antecedent support  \\\n",
              "22                        (computers.peripherals.mouse)            0.006118   \n",
              "24                     (computers.peripherals.keyboard)            0.006118   \n",
              "25                      (computers.peripherals.monitor)            0.007140   \n",
              "30                                 (computers.notebook)            0.006118   \n",
              "52                                 (computers.notebook)            0.009404   \n",
              "...                                                 ...                 ...   \n",
              "1149  (computers.components.motherboard, computers.c...            0.001125   \n",
              "1161  (computers.components.power_supply, computers....            0.000995   \n",
              "1163  (computers.components.motherboard, computers.c...            0.001125   \n",
              "1164                        (appliances.kitchen.washer)            0.000750   \n",
              "1167                 (appliances.kitchen.refrigerators)            0.000750   \n",
              "\n",
              "      consequent support   support  confidence        lift  leverage  \\\n",
              "22              0.030351  0.000750    0.122516    4.036672  0.000564   \n",
              "24              0.007140  0.001045    0.170836   23.926249  0.001001   \n",
              "25              0.006118  0.001045    0.146374   23.926249  0.001001   \n",
              "30              0.056649  0.000665    0.108649    1.917944  0.000318   \n",
              "52              0.056649  0.001486    0.158002    2.789163  0.000953   \n",
              "...                  ...       ...         ...         ...       ...   \n",
              "1149            0.000330  0.000278    0.247278  749.967130  0.000278   \n",
              "1161            0.000292  0.000262    0.263620  902.464140  0.000262   \n",
              "1163            0.000296  0.000262    0.233281  786.824757  0.000262   \n",
              "1164            0.046336  0.000540    0.719953   15.537517  0.000505   \n",
              "1167            0.063376  0.000335    0.446908    7.051688  0.000287   \n",
              "\n",
              "      conviction  zhangs_metric  antecedent_len  \n",
              "22      1.105034       0.756902               1  \n",
              "24      1.197423       0.964103               1  \n",
              "25      1.164307       0.965096               1  \n",
              "30      1.058339       0.481554               1  \n",
              "52      1.120373       0.647559               1  \n",
              "...          ...            ...             ...  \n",
              "1149    1.328074       0.999791               1  \n",
              "1161    1.357599       0.999887               1  \n",
              "1163    1.303873       0.999854               1  \n",
              "1164    3.405374       0.936341               1  \n",
              "1167    1.693432       0.858834               1  \n",
              "\n",
              "[140 rows x 11 columns]"
            ],
            "text/html": [
              "\n",
              "  <div id=\"df-0e532bbf-241a-4e56-8bd1-8fffc0944992\">\n",
              "    <div class=\"colab-df-container\">\n",
              "      <div>\n",
              "<style scoped>\n",
              "    .dataframe tbody tr th:only-of-type {\n",
              "        vertical-align: middle;\n",
              "    }\n",
              "\n",
              "    .dataframe tbody tr th {\n",
              "        vertical-align: top;\n",
              "    }\n",
              "\n",
              "    .dataframe thead th {\n",
              "        text-align: right;\n",
              "    }\n",
              "</style>\n",
              "<table border=\"1\" class=\"dataframe\">\n",
              "  <thead>\n",
              "    <tr style=\"text-align: right;\">\n",
              "      <th></th>\n",
              "      <th>antecedents</th>\n",
              "      <th>consequents</th>\n",
              "      <th>antecedent support</th>\n",
              "      <th>consequent support</th>\n",
              "      <th>support</th>\n",
              "      <th>confidence</th>\n",
              "      <th>lift</th>\n",
              "      <th>leverage</th>\n",
              "      <th>conviction</th>\n",
              "      <th>zhangs_metric</th>\n",
              "      <th>antecedent_len</th>\n",
              "    </tr>\n",
              "  </thead>\n",
              "  <tbody>\n",
              "    <tr>\n",
              "      <th>22</th>\n",
              "      <td>(computers.peripherals.monitor)</td>\n",
              "      <td>(computers.peripherals.mouse)</td>\n",
              "      <td>0.006118</td>\n",
              "      <td>0.030351</td>\n",
              "      <td>0.000750</td>\n",
              "      <td>0.122516</td>\n",
              "      <td>4.036672</td>\n",
              "      <td>0.000564</td>\n",
              "      <td>1.105034</td>\n",
              "      <td>0.756902</td>\n",
              "      <td>1</td>\n",
              "    </tr>\n",
              "    <tr>\n",
              "      <th>24</th>\n",
              "      <td>(computers.peripherals.monitor)</td>\n",
              "      <td>(computers.peripherals.keyboard)</td>\n",
              "      <td>0.006118</td>\n",
              "      <td>0.007140</td>\n",
              "      <td>0.001045</td>\n",
              "      <td>0.170836</td>\n",
              "      <td>23.926249</td>\n",
              "      <td>0.001001</td>\n",
              "      <td>1.197423</td>\n",
              "      <td>0.964103</td>\n",
              "      <td>1</td>\n",
              "    </tr>\n",
              "    <tr>\n",
              "      <th>25</th>\n",
              "      <td>(computers.peripherals.keyboard)</td>\n",
              "      <td>(computers.peripherals.monitor)</td>\n",
              "      <td>0.007140</td>\n",
              "      <td>0.006118</td>\n",
              "      <td>0.001045</td>\n",
              "      <td>0.146374</td>\n",
              "      <td>23.926249</td>\n",
              "      <td>0.001001</td>\n",
              "      <td>1.164307</td>\n",
              "      <td>0.965096</td>\n",
              "      <td>1</td>\n",
              "    </tr>\n",
              "    <tr>\n",
              "      <th>30</th>\n",
              "      <td>(computers.peripherals.monitor)</td>\n",
              "      <td>(computers.notebook)</td>\n",
              "      <td>0.006118</td>\n",
              "      <td>0.056649</td>\n",
              "      <td>0.000665</td>\n",
              "      <td>0.108649</td>\n",
              "      <td>1.917944</td>\n",
              "      <td>0.000318</td>\n",
              "      <td>1.058339</td>\n",
              "      <td>0.481554</td>\n",
              "      <td>1</td>\n",
              "    </tr>\n",
              "    <tr>\n",
              "      <th>52</th>\n",
              "      <td>(computers.peripherals.printer)</td>\n",
              "      <td>(computers.notebook)</td>\n",
              "      <td>0.009404</td>\n",
              "      <td>0.056649</td>\n",
              "      <td>0.001486</td>\n",
              "      <td>0.158002</td>\n",
              "      <td>2.789163</td>\n",
              "      <td>0.000953</td>\n",
              "      <td>1.120373</td>\n",
              "      <td>0.647559</td>\n",
              "      <td>1</td>\n",
              "    </tr>\n",
              "    <tr>\n",
              "      <th>...</th>\n",
              "      <td>...</td>\n",
              "      <td>...</td>\n",
              "      <td>...</td>\n",
              "      <td>...</td>\n",
              "      <td>...</td>\n",
              "      <td>...</td>\n",
              "      <td>...</td>\n",
              "      <td>...</td>\n",
              "      <td>...</td>\n",
              "      <td>...</td>\n",
              "      <td>...</td>\n",
              "    </tr>\n",
              "    <tr>\n",
              "      <th>1149</th>\n",
              "      <td>(computers.components.power_supply)</td>\n",
              "      <td>(computers.components.motherboard, computers.c...</td>\n",
              "      <td>0.001125</td>\n",
              "      <td>0.000330</td>\n",
              "      <td>0.000278</td>\n",
              "      <td>0.247278</td>\n",
              "      <td>749.967130</td>\n",
              "      <td>0.000278</td>\n",
              "      <td>1.328074</td>\n",
              "      <td>0.999791</td>\n",
              "      <td>1</td>\n",
              "    </tr>\n",
              "    <tr>\n",
              "      <th>1161</th>\n",
              "      <td>(computers.components.motherboard)</td>\n",
              "      <td>(computers.components.power_supply, computers....</td>\n",
              "      <td>0.000995</td>\n",
              "      <td>0.000292</td>\n",
              "      <td>0.000262</td>\n",
              "      <td>0.263620</td>\n",
              "      <td>902.464140</td>\n",
              "      <td>0.000262</td>\n",
              "      <td>1.357599</td>\n",
              "      <td>0.999887</td>\n",
              "      <td>1</td>\n",
              "    </tr>\n",
              "    <tr>\n",
              "      <th>1163</th>\n",
              "      <td>(computers.components.power_supply)</td>\n",
              "      <td>(computers.components.motherboard, computers.c...</td>\n",
              "      <td>0.001125</td>\n",
              "      <td>0.000296</td>\n",
              "      <td>0.000262</td>\n",
              "      <td>0.233281</td>\n",
              "      <td>786.824757</td>\n",
              "      <td>0.000262</td>\n",
              "      <td>1.303873</td>\n",
              "      <td>0.999854</td>\n",
              "      <td>1</td>\n",
              "    </tr>\n",
              "    <tr>\n",
              "      <th>1164</th>\n",
              "      <td>(furniture.bedroom.blanket)</td>\n",
              "      <td>(appliances.kitchen.washer)</td>\n",
              "      <td>0.000750</td>\n",
              "      <td>0.046336</td>\n",
              "      <td>0.000540</td>\n",
              "      <td>0.719953</td>\n",
              "      <td>15.537517</td>\n",
              "      <td>0.000505</td>\n",
              "      <td>3.405374</td>\n",
              "      <td>0.936341</td>\n",
              "      <td>1</td>\n",
              "    </tr>\n",
              "    <tr>\n",
              "      <th>1167</th>\n",
              "      <td>(furniture.bedroom.blanket)</td>\n",
              "      <td>(appliances.kitchen.refrigerators)</td>\n",
              "      <td>0.000750</td>\n",
              "      <td>0.063376</td>\n",
              "      <td>0.000335</td>\n",
              "      <td>0.446908</td>\n",
              "      <td>7.051688</td>\n",
              "      <td>0.000287</td>\n",
              "      <td>1.693432</td>\n",
              "      <td>0.858834</td>\n",
              "      <td>1</td>\n",
              "    </tr>\n",
              "  </tbody>\n",
              "</table>\n",
              "<p>140 rows × 11 columns</p>\n",
              "</div>\n",
              "      <button class=\"colab-df-convert\" onclick=\"convertToInteractive('df-0e532bbf-241a-4e56-8bd1-8fffc0944992')\"\n",
              "              title=\"Convert this dataframe to an interactive table.\"\n",
              "              style=\"display:none;\">\n",
              "        \n",
              "  <svg xmlns=\"http://www.w3.org/2000/svg\" height=\"24px\"viewBox=\"0 0 24 24\"\n",
              "       width=\"24px\">\n",
              "    <path d=\"M0 0h24v24H0V0z\" fill=\"none\"/>\n",
              "    <path d=\"M18.56 5.44l.94 2.06.94-2.06 2.06-.94-2.06-.94-.94-2.06-.94 2.06-2.06.94zm-11 1L8.5 8.5l.94-2.06 2.06-.94-2.06-.94L8.5 2.5l-.94 2.06-2.06.94zm10 10l.94 2.06.94-2.06 2.06-.94-2.06-.94-.94-2.06-.94 2.06-2.06.94z\"/><path d=\"M17.41 7.96l-1.37-1.37c-.4-.4-.92-.59-1.43-.59-.52 0-1.04.2-1.43.59L10.3 9.45l-7.72 7.72c-.78.78-.78 2.05 0 2.83L4 21.41c.39.39.9.59 1.41.59.51 0 1.02-.2 1.41-.59l7.78-7.78 2.81-2.81c.8-.78.8-2.07 0-2.86zM5.41 20L4 18.59l7.72-7.72 1.47 1.35L5.41 20z\"/>\n",
              "  </svg>\n",
              "      </button>\n",
              "      \n",
              "  <style>\n",
              "    .colab-df-container {\n",
              "      display:flex;\n",
              "      flex-wrap:wrap;\n",
              "      gap: 12px;\n",
              "    }\n",
              "\n",
              "    .colab-df-convert {\n",
              "      background-color: #E8F0FE;\n",
              "      border: none;\n",
              "      border-radius: 50%;\n",
              "      cursor: pointer;\n",
              "      display: none;\n",
              "      fill: #1967D2;\n",
              "      height: 32px;\n",
              "      padding: 0 0 0 0;\n",
              "      width: 32px;\n",
              "    }\n",
              "\n",
              "    .colab-df-convert:hover {\n",
              "      background-color: #E2EBFA;\n",
              "      box-shadow: 0px 1px 2px rgba(60, 64, 67, 0.3), 0px 1px 3px 1px rgba(60, 64, 67, 0.15);\n",
              "      fill: #174EA6;\n",
              "    }\n",
              "\n",
              "    [theme=dark] .colab-df-convert {\n",
              "      background-color: #3B4455;\n",
              "      fill: #D2E3FC;\n",
              "    }\n",
              "\n",
              "    [theme=dark] .colab-df-convert:hover {\n",
              "      background-color: #434B5C;\n",
              "      box-shadow: 0px 1px 3px 1px rgba(0, 0, 0, 0.15);\n",
              "      filter: drop-shadow(0px 1px 2px rgba(0, 0, 0, 0.3));\n",
              "      fill: #FFFFFF;\n",
              "    }\n",
              "  </style>\n",
              "\n",
              "      <script>\n",
              "        const buttonEl =\n",
              "          document.querySelector('#df-0e532bbf-241a-4e56-8bd1-8fffc0944992 button.colab-df-convert');\n",
              "        buttonEl.style.display =\n",
              "          google.colab.kernel.accessAllowed ? 'block' : 'none';\n",
              "\n",
              "        async function convertToInteractive(key) {\n",
              "          const element = document.querySelector('#df-0e532bbf-241a-4e56-8bd1-8fffc0944992');\n",
              "          const dataTable =\n",
              "            await google.colab.kernel.invokeFunction('convertToInteractive',\n",
              "                                                     [key], {});\n",
              "          if (!dataTable) return;\n",
              "\n",
              "          const docLinkHtml = 'Like what you see? Visit the ' +\n",
              "            '<a target=\"_blank\" href=https://colab.research.google.com/notebooks/data_table.ipynb>data table notebook</a>'\n",
              "            + ' to learn more about interactive tables.';\n",
              "          element.innerHTML = '';\n",
              "          dataTable['output_type'] = 'display_data';\n",
              "          await google.colab.output.renderOutput(dataTable, element);\n",
              "          const docLink = document.createElement('div');\n",
              "          docLink.innerHTML = docLinkHtml;\n",
              "          element.appendChild(docLink);\n",
              "        }\n",
              "      </script>\n",
              "    </div>\n",
              "  </div>\n",
              "  "
            ]
          },
          "metadata": {},
          "execution_count": 31
        }
      ]
    },
    {
      "cell_type": "markdown",
      "source": [
        "### How would you implement this as a system?\n",
        "\n",
        "- For each category available to a user, we would want to show at least one other option of what to buy.\n",
        "- Where possible, we would serve from the association rules which meet our requirements in terms of confidence, lift and support.\n",
        "- Not all categories in this example, will have a consequent they can recommend - as such, would need to look at % of items that can have a consequent based on associations, as opposed to a generic top 10."
      ],
      "metadata": {
        "id": "zUVyJL4yRbIT"
      }
    },
    {
      "cell_type": "code",
      "source": [
        "rules_dataframe.count()"
      ],
      "metadata": {
        "colab": {
          "base_uri": "https://localhost:8080/"
        },
        "id": "AHbfR5xXR2WD",
        "outputId": "24b72c70-9361-44dd-a01e-fb3a754c788a"
      },
      "execution_count": null,
      "outputs": [
        {
          "output_type": "stream",
          "name": "stderr",
          "text": [
            "/usr/local/lib/python3.10/dist-packages/ipykernel/ipkernel.py:283: DeprecationWarning: `should_run_async` will not call `transform_cell` automatically in the future. Please pass the result to `transformed_cell` argument and any exception that happen during thetransform in `preprocessing_exc_tuple` in IPython 7.17 and above.\n",
            "  and should_run_async(code)\n"
          ]
        },
        {
          "output_type": "execute_result",
          "data": {
            "text/plain": [
              "antecedents           140\n",
              "consequents           140\n",
              "antecedent support    140\n",
              "consequent support    140\n",
              "support               140\n",
              "confidence            140\n",
              "lift                  140\n",
              "leverage              140\n",
              "conviction            140\n",
              "zhangs_metric         140\n",
              "antecedent_len        140\n",
              "dtype: int64"
            ]
          },
          "metadata": {},
          "execution_count": 32
        }
      ]
    },
    {
      "cell_type": "code",
      "source": [
        "(rules_dataframe['antecedents']).nunique()"
      ],
      "metadata": {
        "colab": {
          "base_uri": "https://localhost:8080/"
        },
        "id": "2QOHh8jwSCSL",
        "outputId": "007f2132-d22d-4bc6-afd7-f90d091c8ebd"
      },
      "execution_count": null,
      "outputs": [
        {
          "output_type": "stream",
          "name": "stderr",
          "text": [
            "/usr/local/lib/python3.10/dist-packages/ipykernel/ipkernel.py:283: DeprecationWarning: `should_run_async` will not call `transform_cell` automatically in the future. Please pass the result to `transformed_cell` argument and any exception that happen during thetransform in `preprocessing_exc_tuple` in IPython 7.17 and above.\n",
            "  and should_run_async(code)\n"
          ]
        },
        {
          "output_type": "execute_result",
          "data": {
            "text/plain": [
              "31"
            ]
          },
          "metadata": {},
          "execution_count": 33
        }
      ]
    },
    {
      "cell_type": "markdown",
      "source": [
        "There are 26 category codes that have coverage. How many unique categories in original dataframe?"
      ],
      "metadata": {
        "id": "EpmdHimDSPs3"
      }
    },
    {
      "cell_type": "code",
      "source": [
        "df['category_code'].nunique()"
      ],
      "metadata": {
        "colab": {
          "base_uri": "https://localhost:8080/"
        },
        "id": "q1KvygGSSFtW",
        "outputId": "c84e69ce-88a1-46ed-cf7e-b1af507ee012"
      },
      "execution_count": null,
      "outputs": [
        {
          "output_type": "stream",
          "name": "stderr",
          "text": [
            "/usr/local/lib/python3.10/dist-packages/ipykernel/ipkernel.py:283: DeprecationWarning: `should_run_async` will not call `transform_cell` automatically in the future. Please pass the result to `transformed_cell` argument and any exception that happen during thetransform in `preprocessing_exc_tuple` in IPython 7.17 and above.\n",
            "  and should_run_async(code)\n"
          ]
        },
        {
          "output_type": "execute_result",
          "data": {
            "text/plain": [
              "123"
            ]
          },
          "metadata": {},
          "execution_count": 34
        }
      ]
    },
    {
      "cell_type": "markdown",
      "source": [
        "### Association Rules coverage.\n",
        "\n",
        "25% of categories have an associated rule. We can optimise this number by playing with the support, confidence and lift."
      ],
      "metadata": {
        "id": "bDjDNwJLSdN8"
      }
    },
    {
      "cell_type": "code",
      "source": [
        "31/123"
      ],
      "metadata": {
        "colab": {
          "base_uri": "https://localhost:8080/"
        },
        "id": "zBpQPb_jSYfz",
        "outputId": "a84ade58-f627-467b-b56b-c7645feaf037"
      },
      "execution_count": null,
      "outputs": [
        {
          "output_type": "stream",
          "name": "stderr",
          "text": [
            "/usr/local/lib/python3.10/dist-packages/ipykernel/ipkernel.py:283: DeprecationWarning: `should_run_async` will not call `transform_cell` automatically in the future. Please pass the result to `transformed_cell` argument and any exception that happen during thetransform in `preprocessing_exc_tuple` in IPython 7.17 and above.\n",
            "  and should_run_async(code)\n"
          ]
        },
        {
          "output_type": "execute_result",
          "data": {
            "text/plain": [
              "0.25203252032520324"
            ]
          },
          "metadata": {},
          "execution_count": 35
        }
      ]
    },
    {
      "cell_type": "markdown",
      "source": [
        "## Findings and Future Development\n",
        "\n",
        "For future development and to understand the impact of non-personalised vs association rules recommendations, you could examine, when we have a product with an association, compared to a generic top 10 item, what is the subsequent metric uplift (purchase, ARPU) for associated item rules vs top 10s?\n",
        "\n",
        "Future development could then also include clustering items together, e.g. if you select a certain content type, we show you another example from that cluster."
      ],
      "metadata": {
        "id": "noKDNyZzVoBF"
      }
    },
    {
      "cell_type": "code",
      "source": [],
      "metadata": {
        "id": "sUHy7eEdSfKK"
      },
      "execution_count": null,
      "outputs": []
    }
  ]
}